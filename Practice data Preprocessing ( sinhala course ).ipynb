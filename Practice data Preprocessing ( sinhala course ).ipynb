{
  "cells": [
    {
      "cell_type": "markdown",
      "metadata": {
        "id": "view-in-github",
        "colab_type": "text"
      },
      "source": [
        "<a href=\"https://colab.research.google.com/github/nadunchanna98/machine-learning/blob/main/Practice%20data%20Preprocessing%20(%20sinhala%20course%20).ipynb\" target=\"_parent\"><img src=\"https://colab.research.google.com/assets/colab-badge.svg\" alt=\"Open In Colab\"/></a>"
      ]
    },
    {
      "cell_type": "code",
      "execution_count": null,
      "id": "2a2440a5",
      "metadata": {
        "id": "2a2440a5"
      },
      "outputs": [],
      "source": [
        "import pandas as pd\n",
        "import numpy as np"
      ]
    },
    {
      "cell_type": "code",
      "execution_count": null,
      "id": "c2fcfc31",
      "metadata": {
        "id": "c2fcfc31"
      },
      "outputs": [],
      "source": [
        "df=pd.read_csv(\"G:\\\\academic\\\\other\\\\AI\\\\New folder\\\\sampleSubmissionFile1.csv\")"
      ]
    },
    {
      "cell_type": "code",
      "execution_count": null,
      "id": "1acc01c6",
      "metadata": {
        "id": "1acc01c6",
        "outputId": "51817fb6-81bf-48af-a58d-129d4caa2223"
      },
      "outputs": [
        {
          "data": {
            "text/html": [
              "<div>\n",
              "<style scoped>\n",
              "    .dataframe tbody tr th:only-of-type {\n",
              "        vertical-align: middle;\n",
              "    }\n",
              "\n",
              "    .dataframe tbody tr th {\n",
              "        vertical-align: top;\n",
              "    }\n",
              "\n",
              "    .dataframe thead th {\n",
              "        text-align: right;\n",
              "    }\n",
              "</style>\n",
              "<table border=\"1\" class=\"dataframe\">\n",
              "  <thead>\n",
              "    <tr style=\"text-align: right;\">\n",
              "      <th></th>\n",
              "      <th>ID</th>\n",
              "      <th>app_status</th>\n",
              "    </tr>\n",
              "  </thead>\n",
              "  <tbody>\n",
              "    <tr>\n",
              "      <th>0</th>\n",
              "      <td>1</td>\n",
              "      <td>1.0</td>\n",
              "    </tr>\n",
              "    <tr>\n",
              "      <th>1</th>\n",
              "      <td>2</td>\n",
              "      <td>0.0</td>\n",
              "    </tr>\n",
              "    <tr>\n",
              "      <th>2</th>\n",
              "      <td>3</td>\n",
              "      <td>1.0</td>\n",
              "    </tr>\n",
              "    <tr>\n",
              "      <th>3</th>\n",
              "      <td>4</td>\n",
              "      <td>NaN</td>\n",
              "    </tr>\n",
              "    <tr>\n",
              "      <th>4</th>\n",
              "      <td>5</td>\n",
              "      <td>0.0</td>\n",
              "    </tr>\n",
              "  </tbody>\n",
              "</table>\n",
              "</div>"
            ],
            "text/plain": [
              "   ID  app_status\n",
              "0   1         1.0\n",
              "1   2         0.0\n",
              "2   3         1.0\n",
              "3   4         NaN\n",
              "4   5         0.0"
            ]
          },
          "execution_count": 91,
          "metadata": {},
          "output_type": "execute_result"
        }
      ],
      "source": [
        "df.head(5)"
      ]
    },
    {
      "cell_type": "markdown",
      "id": "762f9901",
      "metadata": {
        "id": "762f9901"
      },
      "source": [
        "# Checking the missing values"
      ]
    },
    {
      "cell_type": "code",
      "execution_count": null,
      "id": "914ae83f",
      "metadata": {
        "id": "914ae83f",
        "outputId": "2008e797-ae0c-43aa-9518-f8a9f27bcbcf"
      },
      "outputs": [
        {
          "data": {
            "text/html": [
              "<div>\n",
              "<style scoped>\n",
              "    .dataframe tbody tr th:only-of-type {\n",
              "        vertical-align: middle;\n",
              "    }\n",
              "\n",
              "    .dataframe tbody tr th {\n",
              "        vertical-align: top;\n",
              "    }\n",
              "\n",
              "    .dataframe thead th {\n",
              "        text-align: right;\n",
              "    }\n",
              "</style>\n",
              "<table border=\"1\" class=\"dataframe\">\n",
              "  <thead>\n",
              "    <tr style=\"text-align: right;\">\n",
              "      <th></th>\n",
              "      <th>ID</th>\n",
              "      <th>app_status</th>\n",
              "    </tr>\n",
              "  </thead>\n",
              "  <tbody>\n",
              "    <tr>\n",
              "      <th>0</th>\n",
              "      <td>False</td>\n",
              "      <td>False</td>\n",
              "    </tr>\n",
              "    <tr>\n",
              "      <th>1</th>\n",
              "      <td>False</td>\n",
              "      <td>False</td>\n",
              "    </tr>\n",
              "    <tr>\n",
              "      <th>2</th>\n",
              "      <td>False</td>\n",
              "      <td>False</td>\n",
              "    </tr>\n",
              "    <tr>\n",
              "      <th>3</th>\n",
              "      <td>False</td>\n",
              "      <td>True</td>\n",
              "    </tr>\n",
              "    <tr>\n",
              "      <th>4</th>\n",
              "      <td>False</td>\n",
              "      <td>False</td>\n",
              "    </tr>\n",
              "    <tr>\n",
              "      <th>...</th>\n",
              "      <td>...</td>\n",
              "      <td>...</td>\n",
              "    </tr>\n",
              "    <tr>\n",
              "      <th>2587</th>\n",
              "      <td>False</td>\n",
              "      <td>False</td>\n",
              "    </tr>\n",
              "    <tr>\n",
              "      <th>2588</th>\n",
              "      <td>False</td>\n",
              "      <td>False</td>\n",
              "    </tr>\n",
              "    <tr>\n",
              "      <th>2589</th>\n",
              "      <td>False</td>\n",
              "      <td>True</td>\n",
              "    </tr>\n",
              "    <tr>\n",
              "      <th>2590</th>\n",
              "      <td>False</td>\n",
              "      <td>False</td>\n",
              "    </tr>\n",
              "    <tr>\n",
              "      <th>2591</th>\n",
              "      <td>False</td>\n",
              "      <td>False</td>\n",
              "    </tr>\n",
              "  </tbody>\n",
              "</table>\n",
              "<p>2592 rows × 2 columns</p>\n",
              "</div>"
            ],
            "text/plain": [
              "         ID  app_status\n",
              "0     False       False\n",
              "1     False       False\n",
              "2     False       False\n",
              "3     False        True\n",
              "4     False       False\n",
              "...     ...         ...\n",
              "2587  False       False\n",
              "2588  False       False\n",
              "2589  False        True\n",
              "2590  False       False\n",
              "2591  False       False\n",
              "\n",
              "[2592 rows x 2 columns]"
            ]
          },
          "execution_count": 92,
          "metadata": {},
          "output_type": "execute_result"
        }
      ],
      "source": [
        "df.isna()"
      ]
    },
    {
      "cell_type": "code",
      "execution_count": null,
      "id": "c16c6668",
      "metadata": {
        "id": "c16c6668",
        "outputId": "860503a2-5f68-4788-8b39-4bd694cd7688"
      },
      "outputs": [
        {
          "data": {
            "text/html": [
              "<div>\n",
              "<style scoped>\n",
              "    .dataframe tbody tr th:only-of-type {\n",
              "        vertical-align: middle;\n",
              "    }\n",
              "\n",
              "    .dataframe tbody tr th {\n",
              "        vertical-align: top;\n",
              "    }\n",
              "\n",
              "    .dataframe thead th {\n",
              "        text-align: right;\n",
              "    }\n",
              "</style>\n",
              "<table border=\"1\" class=\"dataframe\">\n",
              "  <thead>\n",
              "    <tr style=\"text-align: right;\">\n",
              "      <th></th>\n",
              "      <th>ID</th>\n",
              "      <th>app_status</th>\n",
              "    </tr>\n",
              "  </thead>\n",
              "  <tbody>\n",
              "    <tr>\n",
              "      <th>0</th>\n",
              "      <td>False</td>\n",
              "      <td>False</td>\n",
              "    </tr>\n",
              "    <tr>\n",
              "      <th>1</th>\n",
              "      <td>False</td>\n",
              "      <td>False</td>\n",
              "    </tr>\n",
              "    <tr>\n",
              "      <th>2</th>\n",
              "      <td>False</td>\n",
              "      <td>False</td>\n",
              "    </tr>\n",
              "    <tr>\n",
              "      <th>3</th>\n",
              "      <td>False</td>\n",
              "      <td>True</td>\n",
              "    </tr>\n",
              "    <tr>\n",
              "      <th>4</th>\n",
              "      <td>False</td>\n",
              "      <td>False</td>\n",
              "    </tr>\n",
              "  </tbody>\n",
              "</table>\n",
              "</div>"
            ],
            "text/plain": [
              "      ID  app_status\n",
              "0  False       False\n",
              "1  False       False\n",
              "2  False       False\n",
              "3  False        True\n",
              "4  False       False"
            ]
          },
          "execution_count": 93,
          "metadata": {},
          "output_type": "execute_result"
        }
      ],
      "source": [
        "df.isna().head(5)"
      ]
    },
    {
      "cell_type": "code",
      "execution_count": null,
      "id": "4ba16b7d",
      "metadata": {
        "id": "4ba16b7d",
        "outputId": "0438f7f9-048b-47de-a83d-233ff456e7e4"
      },
      "outputs": [
        {
          "data": {
            "text/html": [
              "<div>\n",
              "<style scoped>\n",
              "    .dataframe tbody tr th:only-of-type {\n",
              "        vertical-align: middle;\n",
              "    }\n",
              "\n",
              "    .dataframe tbody tr th {\n",
              "        vertical-align: top;\n",
              "    }\n",
              "\n",
              "    .dataframe thead th {\n",
              "        text-align: right;\n",
              "    }\n",
              "</style>\n",
              "<table border=\"1\" class=\"dataframe\">\n",
              "  <thead>\n",
              "    <tr style=\"text-align: right;\">\n",
              "      <th></th>\n",
              "      <th>ID</th>\n",
              "      <th>app_status</th>\n",
              "    </tr>\n",
              "  </thead>\n",
              "  <tbody>\n",
              "    <tr>\n",
              "      <th>0</th>\n",
              "      <td>False</td>\n",
              "      <td>False</td>\n",
              "    </tr>\n",
              "    <tr>\n",
              "      <th>1</th>\n",
              "      <td>False</td>\n",
              "      <td>False</td>\n",
              "    </tr>\n",
              "    <tr>\n",
              "      <th>2</th>\n",
              "      <td>False</td>\n",
              "      <td>False</td>\n",
              "    </tr>\n",
              "    <tr>\n",
              "      <th>3</th>\n",
              "      <td>False</td>\n",
              "      <td>True</td>\n",
              "    </tr>\n",
              "    <tr>\n",
              "      <th>4</th>\n",
              "      <td>False</td>\n",
              "      <td>False</td>\n",
              "    </tr>\n",
              "  </tbody>\n",
              "</table>\n",
              "</div>"
            ],
            "text/plain": [
              "      ID  app_status\n",
              "0  False       False\n",
              "1  False       False\n",
              "2  False       False\n",
              "3  False        True\n",
              "4  False       False"
            ]
          },
          "execution_count": 94,
          "metadata": {},
          "output_type": "execute_result"
        }
      ],
      "source": [
        "df.isnull().head(5)"
      ]
    },
    {
      "cell_type": "code",
      "execution_count": null,
      "id": "cbe3f765",
      "metadata": {
        "id": "cbe3f765",
        "outputId": "776ca437-08d6-4a89-d9d8-253a73ba4c11"
      },
      "outputs": [
        {
          "data": {
            "text/plain": [
              "ID            False\n",
              "app_status     True\n",
              "dtype: bool"
            ]
          },
          "execution_count": 95,
          "metadata": {},
          "output_type": "execute_result"
        }
      ],
      "source": [
        "#detect the columns contains missing values \n",
        "df.isna().any()"
      ]
    },
    {
      "cell_type": "code",
      "execution_count": null,
      "id": "45a3970a",
      "metadata": {
        "id": "45a3970a",
        "outputId": "bfc8b2e9-90d8-41ed-e597-3575b6d80fb3"
      },
      "outputs": [
        {
          "data": {
            "text/plain": [
              "1"
            ]
          },
          "execution_count": 96,
          "metadata": {},
          "output_type": "execute_result"
        }
      ],
      "source": [
        "#detect the total number of columns contains missing values \n",
        "df.isna().any().sum()"
      ]
    },
    {
      "cell_type": "code",
      "execution_count": null,
      "id": "ba2f9dfd",
      "metadata": {
        "id": "ba2f9dfd",
        "outputId": "32fd7c1c-aaaf-4e18-e597-379e6a137109"
      },
      "outputs": [
        {
          "data": {
            "text/plain": [
              "0    False\n",
              "1    False\n",
              "2    False\n",
              "3     True\n",
              "4    False\n",
              "5    False\n",
              "6    False\n",
              "7    False\n",
              "8     True\n",
              "9    False\n",
              "dtype: bool"
            ]
          },
          "execution_count": 97,
          "metadata": {},
          "output_type": "execute_result"
        }
      ],
      "source": [
        "#check the raws contains missing values \n",
        "df.isna().any(axis=1).head(10)"
      ]
    },
    {
      "cell_type": "code",
      "execution_count": null,
      "id": "6b0772fa",
      "metadata": {
        "id": "6b0772fa",
        "outputId": "cf8d2745-2756-42bf-ec4f-0ffa8aa6d314"
      },
      "outputs": [
        {
          "data": {
            "text/plain": [
              "ID            False\n",
              "app_status    False\n",
              "dtype: bool"
            ]
          },
          "execution_count": 98,
          "metadata": {},
          "output_type": "execute_result"
        }
      ],
      "source": [
        "#check whether the missing of all values in the columns\n",
        "df.isna().all()"
      ]
    },
    {
      "cell_type": "code",
      "execution_count": null,
      "id": "1e1ccc32",
      "metadata": {
        "id": "1e1ccc32",
        "outputId": "b9a38e9b-1bbb-459a-cd91-cada96eb7cc4"
      },
      "outputs": [
        {
          "data": {
            "text/plain": [
              "0    False\n",
              "1    False\n",
              "2    False\n",
              "3    False\n",
              "4    False\n",
              "5    False\n",
              "6    False\n",
              "7    False\n",
              "8    False\n",
              "9    False\n",
              "dtype: bool"
            ]
          },
          "execution_count": 99,
          "metadata": {},
          "output_type": "execute_result"
        }
      ],
      "source": [
        "#check whether the missing of all values in the raws\n",
        "df.isna().all(axis=1).head(10)"
      ]
    },
    {
      "cell_type": "code",
      "execution_count": null,
      "id": "5dac5132",
      "metadata": {
        "id": "5dac5132",
        "outputId": "6428aa88-bd61-4166-a800-059a8b28ed6a"
      },
      "outputs": [
        {
          "data": {
            "text/plain": [
              "ID            0\n",
              "app_status    5\n",
              "dtype: int64"
            ]
          },
          "execution_count": 100,
          "metadata": {},
          "output_type": "execute_result"
        }
      ],
      "source": [
        "#total count of the missing values in columns\n",
        "df.isna().sum()"
      ]
    },
    {
      "cell_type": "code",
      "execution_count": null,
      "id": "78b34074",
      "metadata": {
        "id": "78b34074",
        "outputId": "2fa8ae13-d271-464a-c048-d33fc94e1fed"
      },
      "outputs": [
        {
          "data": {
            "text/plain": [
              "ID            0.000000\n",
              "app_status    0.192901\n",
              "dtype: float64"
            ]
          },
          "execution_count": 101,
          "metadata": {},
          "output_type": "execute_result"
        }
      ],
      "source": [
        "#presentage of mising values in a column\n",
        "df.isna().sum()/len(df)*100"
      ]
    },
    {
      "cell_type": "markdown",
      "id": "e7458a20",
      "metadata": {
        "id": "e7458a20"
      },
      "source": [
        "# Dropping missing values"
      ]
    },
    {
      "cell_type": "markdown",
      "id": "ca186b56",
      "metadata": {
        "id": "ca186b56"
      },
      "source": [
        "# Dropping columns with large percentages of missing values"
      ]
    },
    {
      "cell_type": "code",
      "execution_count": null,
      "id": "045ae262",
      "metadata": {
        "id": "045ae262",
        "outputId": "55fcc34c-020b-460c-9f40-ae82b6eabfab"
      },
      "outputs": [
        {
          "data": {
            "text/plain": [
              "5"
            ]
          },
          "execution_count": 38,
          "metadata": {},
          "output_type": "execute_result"
        }
      ],
      "source": [
        "df.isna().any(axis=1).sum()"
      ]
    },
    {
      "cell_type": "code",
      "execution_count": null,
      "id": "0a700469",
      "metadata": {
        "id": "0a700469"
      },
      "outputs": [],
      "source": [
        " df_new = df.drop(\"app_status\",axis=1)"
      ]
    },
    {
      "cell_type": "code",
      "execution_count": null,
      "id": "e0619628",
      "metadata": {
        "id": "e0619628",
        "outputId": "eec55fbf-35a4-4b30-a9f3-855e0a949d4c"
      },
      "outputs": [
        {
          "data": {
            "text/plain": [
              "0"
            ]
          },
          "execution_count": 33,
          "metadata": {},
          "output_type": "execute_result"
        }
      ],
      "source": [
        "df_new.isna().any(axis=1).sum()"
      ]
    },
    {
      "cell_type": "markdown",
      "id": "b24627b4",
      "metadata": {
        "id": "b24627b4"
      },
      "source": [
        "# Dropping rows with at least one missing value"
      ]
    },
    {
      "cell_type": "code",
      "execution_count": null,
      "id": "975c0028",
      "metadata": {
        "id": "975c0028",
        "outputId": "68e23e41-1a84-4a00-ce4c-beaa44c7f780"
      },
      "outputs": [
        {
          "data": {
            "text/plain": [
              "1"
            ]
          },
          "execution_count": 39,
          "metadata": {},
          "output_type": "execute_result"
        }
      ],
      "source": [
        "df.isna().any().sum()"
      ]
    },
    {
      "cell_type": "code",
      "execution_count": null,
      "id": "f92dbae8",
      "metadata": {
        "id": "f92dbae8"
      },
      "outputs": [],
      "source": [
        "df_new2=df.dropna(how=\"any\")"
      ]
    },
    {
      "cell_type": "code",
      "execution_count": null,
      "id": "6904bf39",
      "metadata": {
        "id": "6904bf39",
        "outputId": "d110a6ce-006b-4142-82bc-197f931457cc"
      },
      "outputs": [
        {
          "data": {
            "text/plain": [
              "0"
            ]
          },
          "execution_count": 44,
          "metadata": {},
          "output_type": "execute_result"
        }
      ],
      "source": [
        "df_new2.isna().any().sum()"
      ]
    },
    {
      "cell_type": "markdown",
      "id": "72a5255b",
      "metadata": {
        "id": "72a5255b"
      },
      "source": [
        "# droping rows if all values in that row are missing values"
      ]
    },
    {
      "cell_type": "code",
      "execution_count": null,
      "id": "e921131c",
      "metadata": {
        "id": "e921131c"
      },
      "outputs": [],
      "source": [
        "df_new3=df_new2.dropna(how=\"all\")"
      ]
    },
    {
      "cell_type": "code",
      "execution_count": null,
      "id": "194b4026",
      "metadata": {
        "id": "194b4026",
        "outputId": "0a5a6840-d367-4ff5-d763-006d38459b09"
      },
      "outputs": [
        {
          "data": {
            "text/html": [
              "<div>\n",
              "<style scoped>\n",
              "    .dataframe tbody tr th:only-of-type {\n",
              "        vertical-align: middle;\n",
              "    }\n",
              "\n",
              "    .dataframe tbody tr th {\n",
              "        vertical-align: top;\n",
              "    }\n",
              "\n",
              "    .dataframe thead th {\n",
              "        text-align: right;\n",
              "    }\n",
              "</style>\n",
              "<table border=\"1\" class=\"dataframe\">\n",
              "  <thead>\n",
              "    <tr style=\"text-align: right;\">\n",
              "      <th></th>\n",
              "      <th>ID</th>\n",
              "      <th>app_status</th>\n",
              "    </tr>\n",
              "  </thead>\n",
              "  <tbody>\n",
              "    <tr>\n",
              "      <th>0</th>\n",
              "      <td>1</td>\n",
              "      <td>1.0</td>\n",
              "    </tr>\n",
              "    <tr>\n",
              "      <th>1</th>\n",
              "      <td>2</td>\n",
              "      <td>0.0</td>\n",
              "    </tr>\n",
              "    <tr>\n",
              "      <th>2</th>\n",
              "      <td>3</td>\n",
              "      <td>1.0</td>\n",
              "    </tr>\n",
              "    <tr>\n",
              "      <th>4</th>\n",
              "      <td>5</td>\n",
              "      <td>0.0</td>\n",
              "    </tr>\n",
              "    <tr>\n",
              "      <th>5</th>\n",
              "      <td>6</td>\n",
              "      <td>1.0</td>\n",
              "    </tr>\n",
              "  </tbody>\n",
              "</table>\n",
              "</div>"
            ],
            "text/plain": [
              "   ID  app_status\n",
              "0   1         1.0\n",
              "1   2         0.0\n",
              "2   3         1.0\n",
              "4   5         0.0\n",
              "5   6         1.0"
            ]
          },
          "execution_count": 46,
          "metadata": {},
          "output_type": "execute_result"
        }
      ],
      "source": [
        "df_new2.head()"
      ]
    },
    {
      "cell_type": "markdown",
      "id": "136bec64",
      "metadata": {
        "id": "136bec64"
      },
      "source": [
        "# Dropping rows where the non null values are less than a threshold value"
      ]
    },
    {
      "cell_type": "code",
      "execution_count": null,
      "id": "cd2c3a26",
      "metadata": {
        "id": "cd2c3a26",
        "outputId": "203e7d8a-2eaa-4673-c0ce-b85ff7383a17"
      },
      "outputs": [
        {
          "data": {
            "text/plain": [
              "array([0, 0, 0, ..., 1, 0, 0], dtype=int64)"
            ]
          },
          "execution_count": 47,
          "metadata": {},
          "output_type": "execute_result"
        }
      ],
      "source": [
        "df.isna().sum(axis=1).values"
      ]
    },
    {
      "cell_type": "code",
      "execution_count": null,
      "id": "09800e25",
      "metadata": {
        "id": "09800e25",
        "outputId": "57c43d13-ae6b-4837-ccf0-4da01043d884"
      },
      "outputs": [
        {
          "data": {
            "text/html": [
              "<div>\n",
              "<style scoped>\n",
              "    .dataframe tbody tr th:only-of-type {\n",
              "        vertical-align: middle;\n",
              "    }\n",
              "\n",
              "    .dataframe tbody tr th {\n",
              "        vertical-align: top;\n",
              "    }\n",
              "\n",
              "    .dataframe thead th {\n",
              "        text-align: right;\n",
              "    }\n",
              "</style>\n",
              "<table border=\"1\" class=\"dataframe\">\n",
              "  <thead>\n",
              "    <tr style=\"text-align: right;\">\n",
              "      <th></th>\n",
              "      <th>ID</th>\n",
              "      <th>app_status</th>\n",
              "    </tr>\n",
              "  </thead>\n",
              "  <tbody>\n",
              "    <tr>\n",
              "      <th>0</th>\n",
              "      <td>True</td>\n",
              "      <td>True</td>\n",
              "    </tr>\n",
              "    <tr>\n",
              "      <th>1</th>\n",
              "      <td>True</td>\n",
              "      <td>True</td>\n",
              "    </tr>\n",
              "    <tr>\n",
              "      <th>2</th>\n",
              "      <td>True</td>\n",
              "      <td>True</td>\n",
              "    </tr>\n",
              "    <tr>\n",
              "      <th>3</th>\n",
              "      <td>True</td>\n",
              "      <td>False</td>\n",
              "    </tr>\n",
              "    <tr>\n",
              "      <th>4</th>\n",
              "      <td>True</td>\n",
              "      <td>True</td>\n",
              "    </tr>\n",
              "    <tr>\n",
              "      <th>...</th>\n",
              "      <td>...</td>\n",
              "      <td>...</td>\n",
              "    </tr>\n",
              "    <tr>\n",
              "      <th>2587</th>\n",
              "      <td>True</td>\n",
              "      <td>True</td>\n",
              "    </tr>\n",
              "    <tr>\n",
              "      <th>2588</th>\n",
              "      <td>True</td>\n",
              "      <td>True</td>\n",
              "    </tr>\n",
              "    <tr>\n",
              "      <th>2589</th>\n",
              "      <td>True</td>\n",
              "      <td>False</td>\n",
              "    </tr>\n",
              "    <tr>\n",
              "      <th>2590</th>\n",
              "      <td>True</td>\n",
              "      <td>True</td>\n",
              "    </tr>\n",
              "    <tr>\n",
              "      <th>2591</th>\n",
              "      <td>True</td>\n",
              "      <td>True</td>\n",
              "    </tr>\n",
              "  </tbody>\n",
              "</table>\n",
              "<p>2592 rows × 2 columns</p>\n",
              "</div>"
            ],
            "text/plain": [
              "        ID  app_status\n",
              "0     True        True\n",
              "1     True        True\n",
              "2     True        True\n",
              "3     True       False\n",
              "4     True        True\n",
              "...    ...         ...\n",
              "2587  True        True\n",
              "2588  True        True\n",
              "2589  True       False\n",
              "2590  True        True\n",
              "2591  True        True\n",
              "\n",
              "[2592 rows x 2 columns]"
            ]
          },
          "execution_count": 48,
          "metadata": {},
          "output_type": "execute_result"
        }
      ],
      "source": [
        "#opposite of isnull/isna\n",
        "df.notna()"
      ]
    },
    {
      "cell_type": "code",
      "execution_count": null,
      "id": "dec9f661",
      "metadata": {
        "id": "dec9f661",
        "outputId": "e31eedec-19ea-4546-9fa7-06677a0303e4"
      },
      "outputs": [
        {
          "data": {
            "text/plain": [
              "array([2, 2, 2, ..., 1, 2, 2], dtype=int64)"
            ]
          },
          "execution_count": 49,
          "metadata": {},
          "output_type": "execute_result"
        }
      ],
      "source": [
        "df.notna().sum(axis=1).values"
      ]
    },
    {
      "cell_type": "code",
      "execution_count": null,
      "id": "3df051d9",
      "metadata": {
        "id": "3df051d9",
        "outputId": "9347ec4f-fec4-4eee-b72a-1f51aac85ca1"
      },
      "outputs": [
        {
          "data": {
            "text/html": [
              "<div>\n",
              "<style scoped>\n",
              "    .dataframe tbody tr th:only-of-type {\n",
              "        vertical-align: middle;\n",
              "    }\n",
              "\n",
              "    .dataframe tbody tr th {\n",
              "        vertical-align: top;\n",
              "    }\n",
              "\n",
              "    .dataframe thead th {\n",
              "        text-align: right;\n",
              "    }\n",
              "</style>\n",
              "<table border=\"1\" class=\"dataframe\">\n",
              "  <thead>\n",
              "    <tr style=\"text-align: right;\">\n",
              "      <th></th>\n",
              "      <th>ID</th>\n",
              "      <th>app_status</th>\n",
              "    </tr>\n",
              "  </thead>\n",
              "  <tbody>\n",
              "    <tr>\n",
              "      <th>0</th>\n",
              "      <td>1</td>\n",
              "      <td>1.0</td>\n",
              "    </tr>\n",
              "    <tr>\n",
              "      <th>1</th>\n",
              "      <td>2</td>\n",
              "      <td>0.0</td>\n",
              "    </tr>\n",
              "    <tr>\n",
              "      <th>2</th>\n",
              "      <td>3</td>\n",
              "      <td>1.0</td>\n",
              "    </tr>\n",
              "    <tr>\n",
              "      <th>3</th>\n",
              "      <td>4</td>\n",
              "      <td>NaN</td>\n",
              "    </tr>\n",
              "    <tr>\n",
              "      <th>4</th>\n",
              "      <td>5</td>\n",
              "      <td>0.0</td>\n",
              "    </tr>\n",
              "    <tr>\n",
              "      <th>...</th>\n",
              "      <td>...</td>\n",
              "      <td>...</td>\n",
              "    </tr>\n",
              "    <tr>\n",
              "      <th>2587</th>\n",
              "      <td>2588</td>\n",
              "      <td>0.0</td>\n",
              "    </tr>\n",
              "    <tr>\n",
              "      <th>2588</th>\n",
              "      <td>2589</td>\n",
              "      <td>0.0</td>\n",
              "    </tr>\n",
              "    <tr>\n",
              "      <th>2589</th>\n",
              "      <td>2590</td>\n",
              "      <td>NaN</td>\n",
              "    </tr>\n",
              "    <tr>\n",
              "      <th>2590</th>\n",
              "      <td>2591</td>\n",
              "      <td>1.0</td>\n",
              "    </tr>\n",
              "    <tr>\n",
              "      <th>2591</th>\n",
              "      <td>2592</td>\n",
              "      <td>0.0</td>\n",
              "    </tr>\n",
              "  </tbody>\n",
              "</table>\n",
              "<p>2592 rows × 2 columns</p>\n",
              "</div>"
            ],
            "text/plain": [
              "        ID  app_status\n",
              "0        1         1.0\n",
              "1        2         0.0\n",
              "2        3         1.0\n",
              "3        4         NaN\n",
              "4        5         0.0\n",
              "...    ...         ...\n",
              "2587  2588         0.0\n",
              "2588  2589         0.0\n",
              "2589  2590         NaN\n",
              "2590  2591         1.0\n",
              "2591  2592         0.0\n",
              "\n",
              "[2592 rows x 2 columns]"
            ]
          },
          "execution_count": 54,
          "metadata": {},
          "output_type": "execute_result"
        }
      ],
      "source": [
        "df_new3=df.dropna(thresh=1)\n",
        "df_new3"
      ]
    },
    {
      "cell_type": "markdown",
      "id": "892eddaa",
      "metadata": {
        "id": "892eddaa"
      },
      "source": [
        "# Filling missing values"
      ]
    },
    {
      "cell_type": "code",
      "execution_count": null,
      "id": "f6ff88d9",
      "metadata": {
        "id": "f6ff88d9",
        "outputId": "3411cea7-999f-4d35-ed88-1124c86ec53c"
      },
      "outputs": [
        {
          "data": {
            "text/plain": [
              "ID            0\n",
              "app_status    5\n",
              "dtype: int64"
            ]
          },
          "execution_count": 55,
          "metadata": {},
          "output_type": "execute_result"
        }
      ],
      "source": [
        "df.isna().sum()"
      ]
    },
    {
      "cell_type": "markdown",
      "id": "06d10083",
      "metadata": {
        "id": "06d10083"
      },
      "source": [
        "# Filling missing values with a particular value"
      ]
    },
    {
      "cell_type": "code",
      "execution_count": null,
      "id": "baeada6f",
      "metadata": {
        "id": "baeada6f",
        "outputId": "76828456-4417-4c4c-e1a0-c314e7061a12"
      },
      "outputs": [
        {
          "data": {
            "text/html": [
              "<div>\n",
              "<style scoped>\n",
              "    .dataframe tbody tr th:only-of-type {\n",
              "        vertical-align: middle;\n",
              "    }\n",
              "\n",
              "    .dataframe tbody tr th {\n",
              "        vertical-align: top;\n",
              "    }\n",
              "\n",
              "    .dataframe thead th {\n",
              "        text-align: right;\n",
              "    }\n",
              "</style>\n",
              "<table border=\"1\" class=\"dataframe\">\n",
              "  <thead>\n",
              "    <tr style=\"text-align: right;\">\n",
              "      <th></th>\n",
              "      <th>ID</th>\n",
              "      <th>app_status</th>\n",
              "    </tr>\n",
              "  </thead>\n",
              "  <tbody>\n",
              "    <tr>\n",
              "      <th>0</th>\n",
              "      <td>1</td>\n",
              "      <td>1.0</td>\n",
              "    </tr>\n",
              "    <tr>\n",
              "      <th>1</th>\n",
              "      <td>2</td>\n",
              "      <td>0.0</td>\n",
              "    </tr>\n",
              "    <tr>\n",
              "      <th>2</th>\n",
              "      <td>3</td>\n",
              "      <td>1.0</td>\n",
              "    </tr>\n",
              "    <tr>\n",
              "      <th>3</th>\n",
              "      <td>4</td>\n",
              "      <td>NaN</td>\n",
              "    </tr>\n",
              "    <tr>\n",
              "      <th>4</th>\n",
              "      <td>5</td>\n",
              "      <td>0.0</td>\n",
              "    </tr>\n",
              "    <tr>\n",
              "      <th>5</th>\n",
              "      <td>6</td>\n",
              "      <td>1.0</td>\n",
              "    </tr>\n",
              "    <tr>\n",
              "      <th>6</th>\n",
              "      <td>7</td>\n",
              "      <td>0.0</td>\n",
              "    </tr>\n",
              "    <tr>\n",
              "      <th>7</th>\n",
              "      <td>8</td>\n",
              "      <td>1.0</td>\n",
              "    </tr>\n",
              "    <tr>\n",
              "      <th>8</th>\n",
              "      <td>9</td>\n",
              "      <td>NaN</td>\n",
              "    </tr>\n",
              "    <tr>\n",
              "      <th>9</th>\n",
              "      <td>10</td>\n",
              "      <td>1.0</td>\n",
              "    </tr>\n",
              "  </tbody>\n",
              "</table>\n",
              "</div>"
            ],
            "text/plain": [
              "   ID  app_status\n",
              "0   1         1.0\n",
              "1   2         0.0\n",
              "2   3         1.0\n",
              "3   4         NaN\n",
              "4   5         0.0\n",
              "5   6         1.0\n",
              "6   7         0.0\n",
              "7   8         1.0\n",
              "8   9         NaN\n",
              "9  10         1.0"
            ]
          },
          "execution_count": 57,
          "metadata": {},
          "output_type": "execute_result"
        }
      ],
      "source": [
        "df.head(10)"
      ]
    },
    {
      "cell_type": "code",
      "execution_count": null,
      "id": "6241762b",
      "metadata": {
        "id": "6241762b",
        "outputId": "fadd2f47-1150-4d0e-b596-d0ac2a6c39da"
      },
      "outputs": [
        {
          "data": {
            "text/html": [
              "<div>\n",
              "<style scoped>\n",
              "    .dataframe tbody tr th:only-of-type {\n",
              "        vertical-align: middle;\n",
              "    }\n",
              "\n",
              "    .dataframe tbody tr th {\n",
              "        vertical-align: top;\n",
              "    }\n",
              "\n",
              "    .dataframe thead th {\n",
              "        text-align: right;\n",
              "    }\n",
              "</style>\n",
              "<table border=\"1\" class=\"dataframe\">\n",
              "  <thead>\n",
              "    <tr style=\"text-align: right;\">\n",
              "      <th></th>\n",
              "      <th>ID</th>\n",
              "      <th>app_status</th>\n",
              "    </tr>\n",
              "  </thead>\n",
              "  <tbody>\n",
              "    <tr>\n",
              "      <th>0</th>\n",
              "      <td>1</td>\n",
              "      <td>1.0</td>\n",
              "    </tr>\n",
              "    <tr>\n",
              "      <th>1</th>\n",
              "      <td>2</td>\n",
              "      <td>0.0</td>\n",
              "    </tr>\n",
              "    <tr>\n",
              "      <th>2</th>\n",
              "      <td>3</td>\n",
              "      <td>1.0</td>\n",
              "    </tr>\n",
              "    <tr>\n",
              "      <th>3</th>\n",
              "      <td>4</td>\n",
              "      <td>5555.0</td>\n",
              "    </tr>\n",
              "    <tr>\n",
              "      <th>4</th>\n",
              "      <td>5</td>\n",
              "      <td>0.0</td>\n",
              "    </tr>\n",
              "    <tr>\n",
              "      <th>5</th>\n",
              "      <td>6</td>\n",
              "      <td>1.0</td>\n",
              "    </tr>\n",
              "    <tr>\n",
              "      <th>6</th>\n",
              "      <td>7</td>\n",
              "      <td>0.0</td>\n",
              "    </tr>\n",
              "    <tr>\n",
              "      <th>7</th>\n",
              "      <td>8</td>\n",
              "      <td>1.0</td>\n",
              "    </tr>\n",
              "    <tr>\n",
              "      <th>8</th>\n",
              "      <td>9</td>\n",
              "      <td>5555.0</td>\n",
              "    </tr>\n",
              "    <tr>\n",
              "      <th>9</th>\n",
              "      <td>10</td>\n",
              "      <td>1.0</td>\n",
              "    </tr>\n",
              "  </tbody>\n",
              "</table>\n",
              "</div>"
            ],
            "text/plain": [
              "   ID  app_status\n",
              "0   1         1.0\n",
              "1   2         0.0\n",
              "2   3         1.0\n",
              "3   4      5555.0\n",
              "4   5         0.0\n",
              "5   6         1.0\n",
              "6   7         0.0\n",
              "7   8         1.0\n",
              "8   9      5555.0\n",
              "9  10         1.0"
            ]
          },
          "execution_count": 102,
          "metadata": {},
          "output_type": "execute_result"
        }
      ],
      "source": [
        "df1=df.fillna(5555)\n",
        "df1.head(10)"
      ]
    },
    {
      "cell_type": "markdown",
      "id": "d6a4ae27",
      "metadata": {
        "id": "d6a4ae27"
      },
      "source": [
        "# missing values of a particular column can ba treated separately"
      ]
    },
    {
      "cell_type": "code",
      "execution_count": null,
      "id": "4e5d792a",
      "metadata": {
        "id": "4e5d792a",
        "outputId": "c1abd910-d093-49b5-8fdd-fb8902843a88"
      },
      "outputs": [
        {
          "data": {
            "text/plain": [
              "0           1.0\n",
              "1           0.0\n",
              "2           1.0\n",
              "3       Unknown\n",
              "4           0.0\n",
              "         ...   \n",
              "2587        0.0\n",
              "2588        0.0\n",
              "2589    Unknown\n",
              "2590        1.0\n",
              "2591        0.0\n",
              "Name: app_status, Length: 2592, dtype: object"
            ]
          },
          "execution_count": 104,
          "metadata": {},
          "output_type": "execute_result"
        }
      ],
      "source": [
        "df3=df[\"app_status\"].fillna(\"Unknown\")\n",
        "df3"
      ]
    },
    {
      "cell_type": "code",
      "execution_count": null,
      "id": "59aaa66d",
      "metadata": {
        "id": "59aaa66d",
        "outputId": "ca366d55-45e6-42c9-ea6f-6ed7f8485d47"
      },
      "outputs": [
        {
          "data": {
            "text/plain": [
              "0       1.000000\n",
              "1       0.000000\n",
              "2       1.000000\n",
              "3       0.498647\n",
              "4       0.000000\n",
              "          ...   \n",
              "2587    0.000000\n",
              "2588    0.000000\n",
              "2589    0.498647\n",
              "2590    1.000000\n",
              "2591    0.000000\n",
              "Name: app_status, Length: 2592, dtype: float64"
            ]
          },
          "execution_count": 109,
          "metadata": {},
          "output_type": "execute_result"
        }
      ],
      "source": [
        "df4=df[\"app_status\"].fillna(df[\"app_status\"].mean())\n",
        "df4"
      ]
    },
    {
      "cell_type": "markdown",
      "id": "edaa03bc",
      "metadata": {
        "id": "edaa03bc"
      },
      "source": [
        "# Forward filling (Filling with previous values)"
      ]
    },
    {
      "cell_type": "code",
      "execution_count": null,
      "id": "e8126b1a",
      "metadata": {
        "id": "e8126b1a",
        "outputId": "61dd3520-9a20-4d1d-f9b5-d4c00ee05344"
      },
      "outputs": [
        {
          "data": {
            "text/html": [
              "<div>\n",
              "<style scoped>\n",
              "    .dataframe tbody tr th:only-of-type {\n",
              "        vertical-align: middle;\n",
              "    }\n",
              "\n",
              "    .dataframe tbody tr th {\n",
              "        vertical-align: top;\n",
              "    }\n",
              "\n",
              "    .dataframe thead th {\n",
              "        text-align: right;\n",
              "    }\n",
              "</style>\n",
              "<table border=\"1\" class=\"dataframe\">\n",
              "  <thead>\n",
              "    <tr style=\"text-align: right;\">\n",
              "      <th></th>\n",
              "      <th>ID</th>\n",
              "      <th>app_status</th>\n",
              "    </tr>\n",
              "  </thead>\n",
              "  <tbody>\n",
              "    <tr>\n",
              "      <th>0</th>\n",
              "      <td>1</td>\n",
              "      <td>1.0</td>\n",
              "    </tr>\n",
              "    <tr>\n",
              "      <th>1</th>\n",
              "      <td>2</td>\n",
              "      <td>0.0</td>\n",
              "    </tr>\n",
              "    <tr>\n",
              "      <th>2</th>\n",
              "      <td>3</td>\n",
              "      <td>1.0</td>\n",
              "    </tr>\n",
              "    <tr>\n",
              "      <th>3</th>\n",
              "      <td>4</td>\n",
              "      <td>NaN</td>\n",
              "    </tr>\n",
              "    <tr>\n",
              "      <th>4</th>\n",
              "      <td>5</td>\n",
              "      <td>0.0</td>\n",
              "    </tr>\n",
              "    <tr>\n",
              "      <th>...</th>\n",
              "      <td>...</td>\n",
              "      <td>...</td>\n",
              "    </tr>\n",
              "    <tr>\n",
              "      <th>2587</th>\n",
              "      <td>2588</td>\n",
              "      <td>0.0</td>\n",
              "    </tr>\n",
              "    <tr>\n",
              "      <th>2588</th>\n",
              "      <td>2589</td>\n",
              "      <td>0.0</td>\n",
              "    </tr>\n",
              "    <tr>\n",
              "      <th>2589</th>\n",
              "      <td>2590</td>\n",
              "      <td>NaN</td>\n",
              "    </tr>\n",
              "    <tr>\n",
              "      <th>2590</th>\n",
              "      <td>2591</td>\n",
              "      <td>1.0</td>\n",
              "    </tr>\n",
              "    <tr>\n",
              "      <th>2591</th>\n",
              "      <td>2592</td>\n",
              "      <td>0.0</td>\n",
              "    </tr>\n",
              "  </tbody>\n",
              "</table>\n",
              "<p>2592 rows × 2 columns</p>\n",
              "</div>"
            ],
            "text/plain": [
              "        ID  app_status\n",
              "0        1         1.0\n",
              "1        2         0.0\n",
              "2        3         1.0\n",
              "3        4         NaN\n",
              "4        5         0.0\n",
              "...    ...         ...\n",
              "2587  2588         0.0\n",
              "2588  2589         0.0\n",
              "2589  2590         NaN\n",
              "2590  2591         1.0\n",
              "2591  2592         0.0\n",
              "\n",
              "[2592 rows x 2 columns]"
            ]
          },
          "execution_count": 113,
          "metadata": {},
          "output_type": "execute_result"
        }
      ],
      "source": [
        "df"
      ]
    },
    {
      "cell_type": "code",
      "execution_count": null,
      "id": "9d8653c3",
      "metadata": {
        "id": "9d8653c3",
        "outputId": "89aebb1a-7927-44ce-eaac-b79a3b1c7ebc"
      },
      "outputs": [
        {
          "data": {
            "text/html": [
              "<div>\n",
              "<style scoped>\n",
              "    .dataframe tbody tr th:only-of-type {\n",
              "        vertical-align: middle;\n",
              "    }\n",
              "\n",
              "    .dataframe tbody tr th {\n",
              "        vertical-align: top;\n",
              "    }\n",
              "\n",
              "    .dataframe thead th {\n",
              "        text-align: right;\n",
              "    }\n",
              "</style>\n",
              "<table border=\"1\" class=\"dataframe\">\n",
              "  <thead>\n",
              "    <tr style=\"text-align: right;\">\n",
              "      <th></th>\n",
              "      <th>ID</th>\n",
              "      <th>app_status</th>\n",
              "    </tr>\n",
              "  </thead>\n",
              "  <tbody>\n",
              "    <tr>\n",
              "      <th>0</th>\n",
              "      <td>1</td>\n",
              "      <td>1.0</td>\n",
              "    </tr>\n",
              "    <tr>\n",
              "      <th>1</th>\n",
              "      <td>2</td>\n",
              "      <td>0.0</td>\n",
              "    </tr>\n",
              "    <tr>\n",
              "      <th>2</th>\n",
              "      <td>3</td>\n",
              "      <td>1.0</td>\n",
              "    </tr>\n",
              "    <tr>\n",
              "      <th>3</th>\n",
              "      <td>4</td>\n",
              "      <td>1.0</td>\n",
              "    </tr>\n",
              "    <tr>\n",
              "      <th>4</th>\n",
              "      <td>5</td>\n",
              "      <td>0.0</td>\n",
              "    </tr>\n",
              "    <tr>\n",
              "      <th>...</th>\n",
              "      <td>...</td>\n",
              "      <td>...</td>\n",
              "    </tr>\n",
              "    <tr>\n",
              "      <th>2587</th>\n",
              "      <td>2588</td>\n",
              "      <td>0.0</td>\n",
              "    </tr>\n",
              "    <tr>\n",
              "      <th>2588</th>\n",
              "      <td>2589</td>\n",
              "      <td>0.0</td>\n",
              "    </tr>\n",
              "    <tr>\n",
              "      <th>2589</th>\n",
              "      <td>2590</td>\n",
              "      <td>0.0</td>\n",
              "    </tr>\n",
              "    <tr>\n",
              "      <th>2590</th>\n",
              "      <td>2591</td>\n",
              "      <td>1.0</td>\n",
              "    </tr>\n",
              "    <tr>\n",
              "      <th>2591</th>\n",
              "      <td>2592</td>\n",
              "      <td>0.0</td>\n",
              "    </tr>\n",
              "  </tbody>\n",
              "</table>\n",
              "<p>2592 rows × 2 columns</p>\n",
              "</div>"
            ],
            "text/plain": [
              "        ID  app_status\n",
              "0        1         1.0\n",
              "1        2         0.0\n",
              "2        3         1.0\n",
              "3        4         1.0\n",
              "4        5         0.0\n",
              "...    ...         ...\n",
              "2587  2588         0.0\n",
              "2588  2589         0.0\n",
              "2589  2590         0.0\n",
              "2590  2591         1.0\n",
              "2591  2592         0.0\n",
              "\n",
              "[2592 rows x 2 columns]"
            ]
          },
          "execution_count": 111,
          "metadata": {},
          "output_type": "execute_result"
        }
      ],
      "source": [
        "df1=df.fillna(method=\"ffill\")\n",
        "df1"
      ]
    },
    {
      "cell_type": "markdown",
      "id": "f57a3f99",
      "metadata": {
        "id": "f57a3f99"
      },
      "source": [
        "# Backward filling (Filling with next values)"
      ]
    },
    {
      "cell_type": "code",
      "execution_count": null,
      "id": "d94f0516",
      "metadata": {
        "id": "d94f0516",
        "outputId": "77021790-b86e-4bde-8251-6f7bbe59f1e7"
      },
      "outputs": [
        {
          "data": {
            "text/html": [
              "<div>\n",
              "<style scoped>\n",
              "    .dataframe tbody tr th:only-of-type {\n",
              "        vertical-align: middle;\n",
              "    }\n",
              "\n",
              "    .dataframe tbody tr th {\n",
              "        vertical-align: top;\n",
              "    }\n",
              "\n",
              "    .dataframe thead th {\n",
              "        text-align: right;\n",
              "    }\n",
              "</style>\n",
              "<table border=\"1\" class=\"dataframe\">\n",
              "  <thead>\n",
              "    <tr style=\"text-align: right;\">\n",
              "      <th></th>\n",
              "      <th>ID</th>\n",
              "      <th>app_status</th>\n",
              "    </tr>\n",
              "  </thead>\n",
              "  <tbody>\n",
              "    <tr>\n",
              "      <th>0</th>\n",
              "      <td>1</td>\n",
              "      <td>1.0</td>\n",
              "    </tr>\n",
              "    <tr>\n",
              "      <th>1</th>\n",
              "      <td>2</td>\n",
              "      <td>0.0</td>\n",
              "    </tr>\n",
              "    <tr>\n",
              "      <th>2</th>\n",
              "      <td>3</td>\n",
              "      <td>1.0</td>\n",
              "    </tr>\n",
              "    <tr>\n",
              "      <th>3</th>\n",
              "      <td>4</td>\n",
              "      <td>0.0</td>\n",
              "    </tr>\n",
              "    <tr>\n",
              "      <th>4</th>\n",
              "      <td>5</td>\n",
              "      <td>0.0</td>\n",
              "    </tr>\n",
              "    <tr>\n",
              "      <th>...</th>\n",
              "      <td>...</td>\n",
              "      <td>...</td>\n",
              "    </tr>\n",
              "    <tr>\n",
              "      <th>2587</th>\n",
              "      <td>2588</td>\n",
              "      <td>0.0</td>\n",
              "    </tr>\n",
              "    <tr>\n",
              "      <th>2588</th>\n",
              "      <td>2589</td>\n",
              "      <td>0.0</td>\n",
              "    </tr>\n",
              "    <tr>\n",
              "      <th>2589</th>\n",
              "      <td>2590</td>\n",
              "      <td>1.0</td>\n",
              "    </tr>\n",
              "    <tr>\n",
              "      <th>2590</th>\n",
              "      <td>2591</td>\n",
              "      <td>1.0</td>\n",
              "    </tr>\n",
              "    <tr>\n",
              "      <th>2591</th>\n",
              "      <td>2592</td>\n",
              "      <td>0.0</td>\n",
              "    </tr>\n",
              "  </tbody>\n",
              "</table>\n",
              "<p>2592 rows × 2 columns</p>\n",
              "</div>"
            ],
            "text/plain": [
              "        ID  app_status\n",
              "0        1         1.0\n",
              "1        2         0.0\n",
              "2        3         1.0\n",
              "3        4         0.0\n",
              "4        5         0.0\n",
              "...    ...         ...\n",
              "2587  2588         0.0\n",
              "2588  2589         0.0\n",
              "2589  2590         1.0\n",
              "2590  2591         1.0\n",
              "2591  2592         0.0\n",
              "\n",
              "[2592 rows x 2 columns]"
            ]
          },
          "execution_count": 112,
          "metadata": {},
          "output_type": "execute_result"
        }
      ],
      "source": [
        "df2=df.fillna(method=\"bfill\")\n",
        "df2"
      ]
    },
    {
      "cell_type": "markdown",
      "id": "f68d5c77",
      "metadata": {
        "id": "f68d5c77"
      },
      "source": [
        "# Interpolate numerical missing values"
      ]
    },
    {
      "cell_type": "code",
      "execution_count": null,
      "id": "39b0a11f",
      "metadata": {
        "id": "39b0a11f",
        "outputId": "ad9f4cb6-4200-47fd-9f35-2d25ec4a1243"
      },
      "outputs": [
        {
          "data": {
            "text/html": [
              "<div>\n",
              "<style scoped>\n",
              "    .dataframe tbody tr th:only-of-type {\n",
              "        vertical-align: middle;\n",
              "    }\n",
              "\n",
              "    .dataframe tbody tr th {\n",
              "        vertical-align: top;\n",
              "    }\n",
              "\n",
              "    .dataframe thead th {\n",
              "        text-align: right;\n",
              "    }\n",
              "</style>\n",
              "<table border=\"1\" class=\"dataframe\">\n",
              "  <thead>\n",
              "    <tr style=\"text-align: right;\">\n",
              "      <th></th>\n",
              "      <th>ID</th>\n",
              "      <th>app_status</th>\n",
              "    </tr>\n",
              "  </thead>\n",
              "  <tbody>\n",
              "    <tr>\n",
              "      <th>0</th>\n",
              "      <td>1</td>\n",
              "      <td>1.0</td>\n",
              "    </tr>\n",
              "    <tr>\n",
              "      <th>1</th>\n",
              "      <td>2</td>\n",
              "      <td>0.0</td>\n",
              "    </tr>\n",
              "    <tr>\n",
              "      <th>2</th>\n",
              "      <td>3</td>\n",
              "      <td>1.0</td>\n",
              "    </tr>\n",
              "    <tr>\n",
              "      <th>3</th>\n",
              "      <td>4</td>\n",
              "      <td>NaN</td>\n",
              "    </tr>\n",
              "    <tr>\n",
              "      <th>4</th>\n",
              "      <td>5</td>\n",
              "      <td>0.0</td>\n",
              "    </tr>\n",
              "    <tr>\n",
              "      <th>5</th>\n",
              "      <td>6</td>\n",
              "      <td>1.0</td>\n",
              "    </tr>\n",
              "    <tr>\n",
              "      <th>6</th>\n",
              "      <td>7</td>\n",
              "      <td>0.0</td>\n",
              "    </tr>\n",
              "    <tr>\n",
              "      <th>7</th>\n",
              "      <td>8</td>\n",
              "      <td>1.0</td>\n",
              "    </tr>\n",
              "    <tr>\n",
              "      <th>8</th>\n",
              "      <td>9</td>\n",
              "      <td>NaN</td>\n",
              "    </tr>\n",
              "    <tr>\n",
              "      <th>9</th>\n",
              "      <td>10</td>\n",
              "      <td>1.0</td>\n",
              "    </tr>\n",
              "  </tbody>\n",
              "</table>\n",
              "</div>"
            ],
            "text/plain": [
              "   ID  app_status\n",
              "0   1         1.0\n",
              "1   2         0.0\n",
              "2   3         1.0\n",
              "3   4         NaN\n",
              "4   5         0.0\n",
              "5   6         1.0\n",
              "6   7         0.0\n",
              "7   8         1.0\n",
              "8   9         NaN\n",
              "9  10         1.0"
            ]
          },
          "execution_count": 4,
          "metadata": {},
          "output_type": "execute_result"
        }
      ],
      "source": [
        "df.head(10)"
      ]
    },
    {
      "cell_type": "code",
      "execution_count": null,
      "id": "bc8991f2",
      "metadata": {
        "id": "bc8991f2",
        "outputId": "23327a68-429d-419e-b8f2-5343ec48cebe"
      },
      "outputs": [
        {
          "data": {
            "text/html": [
              "<div>\n",
              "<style scoped>\n",
              "    .dataframe tbody tr th:only-of-type {\n",
              "        vertical-align: middle;\n",
              "    }\n",
              "\n",
              "    .dataframe tbody tr th {\n",
              "        vertical-align: top;\n",
              "    }\n",
              "\n",
              "    .dataframe thead th {\n",
              "        text-align: right;\n",
              "    }\n",
              "</style>\n",
              "<table border=\"1\" class=\"dataframe\">\n",
              "  <thead>\n",
              "    <tr style=\"text-align: right;\">\n",
              "      <th></th>\n",
              "      <th>ID</th>\n",
              "      <th>app_status</th>\n",
              "    </tr>\n",
              "  </thead>\n",
              "  <tbody>\n",
              "    <tr>\n",
              "      <th>0</th>\n",
              "      <td>1</td>\n",
              "      <td>1.0</td>\n",
              "    </tr>\n",
              "    <tr>\n",
              "      <th>1</th>\n",
              "      <td>2</td>\n",
              "      <td>0.0</td>\n",
              "    </tr>\n",
              "    <tr>\n",
              "      <th>2</th>\n",
              "      <td>3</td>\n",
              "      <td>1.0</td>\n",
              "    </tr>\n",
              "    <tr>\n",
              "      <th>3</th>\n",
              "      <td>4</td>\n",
              "      <td>0.5</td>\n",
              "    </tr>\n",
              "    <tr>\n",
              "      <th>4</th>\n",
              "      <td>5</td>\n",
              "      <td>0.0</td>\n",
              "    </tr>\n",
              "    <tr>\n",
              "      <th>5</th>\n",
              "      <td>6</td>\n",
              "      <td>1.0</td>\n",
              "    </tr>\n",
              "    <tr>\n",
              "      <th>6</th>\n",
              "      <td>7</td>\n",
              "      <td>0.0</td>\n",
              "    </tr>\n",
              "    <tr>\n",
              "      <th>7</th>\n",
              "      <td>8</td>\n",
              "      <td>1.0</td>\n",
              "    </tr>\n",
              "    <tr>\n",
              "      <th>8</th>\n",
              "      <td>9</td>\n",
              "      <td>1.0</td>\n",
              "    </tr>\n",
              "    <tr>\n",
              "      <th>9</th>\n",
              "      <td>10</td>\n",
              "      <td>1.0</td>\n",
              "    </tr>\n",
              "  </tbody>\n",
              "</table>\n",
              "</div>"
            ],
            "text/plain": [
              "   ID  app_status\n",
              "0   1         1.0\n",
              "1   2         0.0\n",
              "2   3         1.0\n",
              "3   4         0.5\n",
              "4   5         0.0\n",
              "5   6         1.0\n",
              "6   7         0.0\n",
              "7   8         1.0\n",
              "8   9         1.0\n",
              "9  10         1.0"
            ]
          },
          "execution_count": 5,
          "metadata": {},
          "output_type": "execute_result"
        }
      ],
      "source": [
        "df1=df.interpolate(method=\"linear\")\n",
        "df1.head(10)"
      ]
    },
    {
      "cell_type": "markdown",
      "id": "8aaf23fe",
      "metadata": {
        "id": "8aaf23fe"
      },
      "source": [
        "# Dealing  with duplicates (Repeated rows)"
      ]
    },
    {
      "cell_type": "code",
      "execution_count": null,
      "id": "3c3b9042",
      "metadata": {
        "id": "3c3b9042",
        "outputId": "a37294b9-3791-46d0-de98-3d228d130a53"
      },
      "outputs": [
        {
          "data": {
            "text/html": [
              "<div>\n",
              "<style scoped>\n",
              "    .dataframe tbody tr th:only-of-type {\n",
              "        vertical-align: middle;\n",
              "    }\n",
              "\n",
              "    .dataframe tbody tr th {\n",
              "        vertical-align: top;\n",
              "    }\n",
              "\n",
              "    .dataframe thead th {\n",
              "        text-align: right;\n",
              "    }\n",
              "</style>\n",
              "<table border=\"1\" class=\"dataframe\">\n",
              "  <thead>\n",
              "    <tr style=\"text-align: right;\">\n",
              "      <th></th>\n",
              "      <th>ID</th>\n",
              "      <th>Name</th>\n",
              "      <th>Age</th>\n",
              "      <th>Marks</th>\n",
              "      <th>Gender</th>\n",
              "    </tr>\n",
              "  </thead>\n",
              "  <tbody>\n",
              "    <tr>\n",
              "      <th>0</th>\n",
              "      <td>4000</td>\n",
              "      <td>nadun</td>\n",
              "      <td>21</td>\n",
              "      <td>60</td>\n",
              "      <td>m</td>\n",
              "    </tr>\n",
              "    <tr>\n",
              "      <th>1</th>\n",
              "      <td>5555</td>\n",
              "      <td>channa</td>\n",
              "      <td>52</td>\n",
              "      <td>2</td>\n",
              "      <td>f</td>\n",
              "    </tr>\n",
              "    <tr>\n",
              "      <th>2</th>\n",
              "      <td>5555</td>\n",
              "      <td>channa</td>\n",
              "      <td>52</td>\n",
              "      <td>2</td>\n",
              "      <td>f</td>\n",
              "    </tr>\n",
              "    <tr>\n",
              "      <th>3</th>\n",
              "      <td>1779</td>\n",
              "      <td>Ruvi</td>\n",
              "      <td>5</td>\n",
              "      <td>100</td>\n",
              "      <td>m</td>\n",
              "    </tr>\n",
              "    <tr>\n",
              "      <th>4</th>\n",
              "      <td>5361</td>\n",
              "      <td>Ruvindya</td>\n",
              "      <td>95</td>\n",
              "      <td>60</td>\n",
              "      <td>f</td>\n",
              "    </tr>\n",
              "    <tr>\n",
              "      <th>5</th>\n",
              "      <td>9795</td>\n",
              "      <td>sachi</td>\n",
              "      <td>20</td>\n",
              "      <td>14</td>\n",
              "      <td>m</td>\n",
              "    </tr>\n",
              "    <tr>\n",
              "      <th>6</th>\n",
              "      <td>1000</td>\n",
              "      <td>ruu</td>\n",
              "      <td>50</td>\n",
              "      <td>100</td>\n",
              "      <td>f</td>\n",
              "    </tr>\n",
              "    <tr>\n",
              "      <th>7</th>\n",
              "      <td>1000</td>\n",
              "      <td>ruu</td>\n",
              "      <td>50</td>\n",
              "      <td>100</td>\n",
              "      <td>f</td>\n",
              "    </tr>\n",
              "    <tr>\n",
              "      <th>8</th>\n",
              "      <td>5000</td>\n",
              "      <td>abc</td>\n",
              "      <td>65</td>\n",
              "      <td>99</td>\n",
              "      <td>m</td>\n",
              "    </tr>\n",
              "    <tr>\n",
              "      <th>9</th>\n",
              "      <td>2120</td>\n",
              "      <td>A</td>\n",
              "      <td>12</td>\n",
              "      <td>95</td>\n",
              "      <td>m</td>\n",
              "    </tr>\n",
              "    <tr>\n",
              "      <th>10</th>\n",
              "      <td>4569</td>\n",
              "      <td>B</td>\n",
              "      <td>13</td>\n",
              "      <td>58</td>\n",
              "      <td>f</td>\n",
              "    </tr>\n",
              "    <tr>\n",
              "      <th>11</th>\n",
              "      <td>8759</td>\n",
              "      <td>C</td>\n",
              "      <td>154</td>\n",
              "      <td>87</td>\n",
              "      <td>f</td>\n",
              "    </tr>\n",
              "    <tr>\n",
              "      <th>12</th>\n",
              "      <td>5000</td>\n",
              "      <td>abc</td>\n",
              "      <td>65</td>\n",
              "      <td>99</td>\n",
              "      <td>m</td>\n",
              "    </tr>\n",
              "    <tr>\n",
              "      <th>13</th>\n",
              "      <td>6520</td>\n",
              "      <td>dd</td>\n",
              "      <td>70</td>\n",
              "      <td>12</td>\n",
              "      <td>m</td>\n",
              "    </tr>\n",
              "    <tr>\n",
              "      <th>14</th>\n",
              "      <td>6520</td>\n",
              "      <td>dd</td>\n",
              "      <td>70</td>\n",
              "      <td>12</td>\n",
              "      <td>m</td>\n",
              "    </tr>\n",
              "  </tbody>\n",
              "</table>\n",
              "</div>"
            ],
            "text/plain": [
              "      ID      Name  Age  Marks Gender\n",
              "0   4000     nadun   21     60      m\n",
              "1   5555    channa   52      2      f\n",
              "2   5555    channa   52      2      f\n",
              "3   1779      Ruvi    5    100      m\n",
              "4   5361  Ruvindya   95     60      f\n",
              "5   9795     sachi   20     14      m\n",
              "6   1000       ruu   50    100      f\n",
              "7   1000       ruu   50    100      f\n",
              "8   5000       abc   65     99      m\n",
              "9   2120         A   12     95      m\n",
              "10  4569         B   13     58      f\n",
              "11  8759         C  154     87      f\n",
              "12  5000       abc   65     99      m\n",
              "13  6520        dd   70     12      m\n",
              "14  6520        dd   70     12      m"
            ]
          },
          "execution_count": 9,
          "metadata": {},
          "output_type": "execute_result"
        }
      ],
      "source": [
        "data = {\"ID\":[4000,5555,5555,1779,5361,9795,1000,1000,5000,2120,4569,8759,5000,6520,6520],\"Name\":[\"nadun\",\"channa\",\"channa\",\"Ruvi\",\"Ruvindya\",\"sachi\",\"ruu\",\"ruu\",\"abc\",\"A\",\"B\",\"C\",\"abc\",\"dd\",\"dd\"],\"Age\":[21,52,52,5,95,20,50,50,65,12,13,154,65,70,70],\"Marks\":[60,2,2,100,60,14,100,100,99,95,58,87,99,12,12],\"Gender\":[\"m\",\"f\",\"f\",\"m\",\"f\",\"m\",\"f\",\"f\",\"m\",\"m\",\"f\",\"f\",\"m\",\"m\",\"m\"]}\n",
        "df = pd.DataFrame(data)\n",
        "df"
      ]
    },
    {
      "cell_type": "markdown",
      "id": "534fff13",
      "metadata": {
        "id": "534fff13"
      },
      "source": [
        "# checking duplicated rows"
      ]
    },
    {
      "cell_type": "code",
      "execution_count": null,
      "id": "46d24f38",
      "metadata": {
        "id": "46d24f38",
        "outputId": "d21d4f40-8e5d-40a7-806d-318d1487ad83"
      },
      "outputs": [
        {
          "data": {
            "text/plain": [
              "0     False\n",
              "1     False\n",
              "2      True\n",
              "3     False\n",
              "4     False\n",
              "5     False\n",
              "6     False\n",
              "7      True\n",
              "8     False\n",
              "9     False\n",
              "10    False\n",
              "11    False\n",
              "12     True\n",
              "13    False\n",
              "14     True\n",
              "dtype: bool"
            ]
          },
          "execution_count": 10,
          "metadata": {},
          "output_type": "execute_result"
        }
      ],
      "source": [
        "df.duplicated()"
      ]
    },
    {
      "cell_type": "code",
      "execution_count": null,
      "id": "98a4fc11",
      "metadata": {
        "id": "98a4fc11",
        "outputId": "002dc8bd-d9d7-46de-f673-f60647aacbab"
      },
      "outputs": [
        {
          "data": {
            "text/plain": [
              "4"
            ]
          },
          "execution_count": 11,
          "metadata": {},
          "output_type": "execute_result"
        }
      ],
      "source": [
        "df.duplicated().sum()"
      ]
    },
    {
      "cell_type": "code",
      "execution_count": null,
      "id": "859ded7d",
      "metadata": {
        "id": "859ded7d",
        "outputId": "241ffad2-9bf6-448d-f412-468cbe6d5212"
      },
      "outputs": [
        {
          "data": {
            "text/plain": [
              "15"
            ]
          },
          "execution_count": 12,
          "metadata": {},
          "output_type": "execute_result"
        }
      ],
      "source": [
        "len(df)"
      ]
    },
    {
      "cell_type": "markdown",
      "id": "fadef66a",
      "metadata": {
        "id": "fadef66a"
      },
      "source": [
        "# Dropping duplicated rows"
      ]
    },
    {
      "cell_type": "code",
      "execution_count": null,
      "id": "1fb8c220",
      "metadata": {
        "id": "1fb8c220",
        "outputId": "72742c90-7ee3-4b0e-c42a-4b454477926d"
      },
      "outputs": [
        {
          "data": {
            "text/html": [
              "<div>\n",
              "<style scoped>\n",
              "    .dataframe tbody tr th:only-of-type {\n",
              "        vertical-align: middle;\n",
              "    }\n",
              "\n",
              "    .dataframe tbody tr th {\n",
              "        vertical-align: top;\n",
              "    }\n",
              "\n",
              "    .dataframe thead th {\n",
              "        text-align: right;\n",
              "    }\n",
              "</style>\n",
              "<table border=\"1\" class=\"dataframe\">\n",
              "  <thead>\n",
              "    <tr style=\"text-align: right;\">\n",
              "      <th></th>\n",
              "      <th>ID</th>\n",
              "      <th>Name</th>\n",
              "      <th>Age</th>\n",
              "      <th>Marks</th>\n",
              "      <th>Gender</th>\n",
              "    </tr>\n",
              "  </thead>\n",
              "  <tbody>\n",
              "    <tr>\n",
              "      <th>0</th>\n",
              "      <td>4000</td>\n",
              "      <td>nadun</td>\n",
              "      <td>21</td>\n",
              "      <td>60</td>\n",
              "      <td>m</td>\n",
              "    </tr>\n",
              "    <tr>\n",
              "      <th>1</th>\n",
              "      <td>5555</td>\n",
              "      <td>channa</td>\n",
              "      <td>52</td>\n",
              "      <td>2</td>\n",
              "      <td>f</td>\n",
              "    </tr>\n",
              "    <tr>\n",
              "      <th>3</th>\n",
              "      <td>1779</td>\n",
              "      <td>Ruvi</td>\n",
              "      <td>5</td>\n",
              "      <td>100</td>\n",
              "      <td>m</td>\n",
              "    </tr>\n",
              "    <tr>\n",
              "      <th>4</th>\n",
              "      <td>5361</td>\n",
              "      <td>Ruvindya</td>\n",
              "      <td>95</td>\n",
              "      <td>60</td>\n",
              "      <td>f</td>\n",
              "    </tr>\n",
              "    <tr>\n",
              "      <th>5</th>\n",
              "      <td>9795</td>\n",
              "      <td>sachi</td>\n",
              "      <td>20</td>\n",
              "      <td>14</td>\n",
              "      <td>m</td>\n",
              "    </tr>\n",
              "    <tr>\n",
              "      <th>6</th>\n",
              "      <td>1000</td>\n",
              "      <td>ruu</td>\n",
              "      <td>50</td>\n",
              "      <td>100</td>\n",
              "      <td>f</td>\n",
              "    </tr>\n",
              "    <tr>\n",
              "      <th>8</th>\n",
              "      <td>5000</td>\n",
              "      <td>abc</td>\n",
              "      <td>65</td>\n",
              "      <td>99</td>\n",
              "      <td>m</td>\n",
              "    </tr>\n",
              "    <tr>\n",
              "      <th>9</th>\n",
              "      <td>2120</td>\n",
              "      <td>A</td>\n",
              "      <td>12</td>\n",
              "      <td>95</td>\n",
              "      <td>m</td>\n",
              "    </tr>\n",
              "    <tr>\n",
              "      <th>10</th>\n",
              "      <td>4569</td>\n",
              "      <td>B</td>\n",
              "      <td>13</td>\n",
              "      <td>58</td>\n",
              "      <td>f</td>\n",
              "    </tr>\n",
              "    <tr>\n",
              "      <th>11</th>\n",
              "      <td>8759</td>\n",
              "      <td>C</td>\n",
              "      <td>154</td>\n",
              "      <td>87</td>\n",
              "      <td>f</td>\n",
              "    </tr>\n",
              "    <tr>\n",
              "      <th>13</th>\n",
              "      <td>6520</td>\n",
              "      <td>dd</td>\n",
              "      <td>70</td>\n",
              "      <td>12</td>\n",
              "      <td>m</td>\n",
              "    </tr>\n",
              "  </tbody>\n",
              "</table>\n",
              "</div>"
            ],
            "text/plain": [
              "      ID      Name  Age  Marks Gender\n",
              "0   4000     nadun   21     60      m\n",
              "1   5555    channa   52      2      f\n",
              "3   1779      Ruvi    5    100      m\n",
              "4   5361  Ruvindya   95     60      f\n",
              "5   9795     sachi   20     14      m\n",
              "6   1000       ruu   50    100      f\n",
              "8   5000       abc   65     99      m\n",
              "9   2120         A   12     95      m\n",
              "10  4569         B   13     58      f\n",
              "11  8759         C  154     87      f\n",
              "13  6520        dd   70     12      m"
            ]
          },
          "execution_count": 14,
          "metadata": {},
          "output_type": "execute_result"
        }
      ],
      "source": [
        "df1=df.drop_duplicates()\n",
        "df1"
      ]
    },
    {
      "cell_type": "code",
      "execution_count": null,
      "id": "01609e00",
      "metadata": {
        "id": "01609e00",
        "outputId": "f5c937da-f7c9-40cf-c5d4-cfb33258ed58"
      },
      "outputs": [
        {
          "data": {
            "text/plain": [
              "11"
            ]
          },
          "execution_count": 16,
          "metadata": {},
          "output_type": "execute_result"
        }
      ],
      "source": [
        "len(df1)"
      ]
    },
    {
      "cell_type": "code",
      "execution_count": null,
      "id": "bc8f554f",
      "metadata": {
        "id": "bc8f554f",
        "outputId": "ef34fc9c-b584-4b45-f18a-e630abcab202"
      },
      "outputs": [
        {
          "data": {
            "text/plain": [
              "0"
            ]
          },
          "execution_count": 17,
          "metadata": {},
          "output_type": "execute_result"
        }
      ],
      "source": [
        "df1.duplicated().sum()"
      ]
    },
    {
      "cell_type": "markdown",
      "id": "8bd41590",
      "metadata": {
        "id": "8bd41590"
      },
      "source": [
        "# Dealing with outliers"
      ]
    },
    {
      "cell_type": "code",
      "execution_count": null,
      "id": "ee7f5357",
      "metadata": {
        "id": "ee7f5357",
        "outputId": "d1181e28-020a-4788-e606-ad335e158d59"
      },
      "outputs": [
        {
          "data": {
            "text/html": [
              "<div>\n",
              "<style scoped>\n",
              "    .dataframe tbody tr th:only-of-type {\n",
              "        vertical-align: middle;\n",
              "    }\n",
              "\n",
              "    .dataframe tbody tr th {\n",
              "        vertical-align: top;\n",
              "    }\n",
              "\n",
              "    .dataframe thead th {\n",
              "        text-align: right;\n",
              "    }\n",
              "</style>\n",
              "<table border=\"1\" class=\"dataframe\">\n",
              "  <thead>\n",
              "    <tr style=\"text-align: right;\">\n",
              "      <th></th>\n",
              "      <th>ID</th>\n",
              "      <th>Name</th>\n",
              "      <th>Age</th>\n",
              "      <th>Marks</th>\n",
              "      <th>Gender</th>\n",
              "    </tr>\n",
              "  </thead>\n",
              "  <tbody>\n",
              "    <tr>\n",
              "      <th>0</th>\n",
              "      <td>4000</td>\n",
              "      <td>nadun</td>\n",
              "      <td>21</td>\n",
              "      <td>60</td>\n",
              "      <td>m</td>\n",
              "    </tr>\n",
              "    <tr>\n",
              "      <th>1</th>\n",
              "      <td>5555</td>\n",
              "      <td>channa</td>\n",
              "      <td>52</td>\n",
              "      <td>1000</td>\n",
              "      <td>f</td>\n",
              "    </tr>\n",
              "    <tr>\n",
              "      <th>2</th>\n",
              "      <td>9999</td>\n",
              "      <td>perera</td>\n",
              "      <td>250</td>\n",
              "      <td>2</td>\n",
              "      <td>f</td>\n",
              "    </tr>\n",
              "    <tr>\n",
              "      <th>3</th>\n",
              "      <td>1779</td>\n",
              "      <td>Ruvi</td>\n",
              "      <td>5</td>\n",
              "      <td>100</td>\n",
              "      <td>m</td>\n",
              "    </tr>\n",
              "    <tr>\n",
              "      <th>4</th>\n",
              "      <td>5361</td>\n",
              "      <td>Ruvindya</td>\n",
              "      <td>95</td>\n",
              "      <td>60</td>\n",
              "      <td>f</td>\n",
              "    </tr>\n",
              "    <tr>\n",
              "      <th>5</th>\n",
              "      <td>9795</td>\n",
              "      <td>sachi</td>\n",
              "      <td>20</td>\n",
              "      <td>14</td>\n",
              "      <td>m</td>\n",
              "    </tr>\n",
              "    <tr>\n",
              "      <th>6</th>\n",
              "      <td>1000</td>\n",
              "      <td>ruu</td>\n",
              "      <td>50</td>\n",
              "      <td>100</td>\n",
              "      <td>f</td>\n",
              "    </tr>\n",
              "    <tr>\n",
              "      <th>7</th>\n",
              "      <td>1111</td>\n",
              "      <td>rub</td>\n",
              "      <td>0</td>\n",
              "      <td>100</td>\n",
              "      <td>f</td>\n",
              "    </tr>\n",
              "    <tr>\n",
              "      <th>8</th>\n",
              "      <td>5000</td>\n",
              "      <td>jk</td>\n",
              "      <td>65</td>\n",
              "      <td>99</td>\n",
              "      <td>m</td>\n",
              "    </tr>\n",
              "    <tr>\n",
              "      <th>9</th>\n",
              "      <td>2120</td>\n",
              "      <td>A</td>\n",
              "      <td>12</td>\n",
              "      <td>95</td>\n",
              "      <td>m</td>\n",
              "    </tr>\n",
              "    <tr>\n",
              "      <th>10</th>\n",
              "      <td>4569</td>\n",
              "      <td>B</td>\n",
              "      <td>13</td>\n",
              "      <td>58</td>\n",
              "      <td>f</td>\n",
              "    </tr>\n",
              "    <tr>\n",
              "      <th>11</th>\n",
              "      <td>8759</td>\n",
              "      <td>C</td>\n",
              "      <td>154</td>\n",
              "      <td>87</td>\n",
              "      <td>f</td>\n",
              "    </tr>\n",
              "    <tr>\n",
              "      <th>12</th>\n",
              "      <td>5678</td>\n",
              "      <td>abc</td>\n",
              "      <td>65</td>\n",
              "      <td>999</td>\n",
              "      <td>m</td>\n",
              "    </tr>\n",
              "    <tr>\n",
              "      <th>13</th>\n",
              "      <td>6520</td>\n",
              "      <td>md</td>\n",
              "      <td>200</td>\n",
              "      <td>0</td>\n",
              "      <td>m</td>\n",
              "    </tr>\n",
              "    <tr>\n",
              "      <th>14</th>\n",
              "      <td>6000</td>\n",
              "      <td>dd</td>\n",
              "      <td>70</td>\n",
              "      <td>12</td>\n",
              "      <td>m</td>\n",
              "    </tr>\n",
              "  </tbody>\n",
              "</table>\n",
              "</div>"
            ],
            "text/plain": [
              "      ID      Name  Age  Marks Gender\n",
              "0   4000     nadun   21     60      m\n",
              "1   5555    channa   52   1000      f\n",
              "2   9999    perera  250      2      f\n",
              "3   1779      Ruvi    5    100      m\n",
              "4   5361  Ruvindya   95     60      f\n",
              "5   9795     sachi   20     14      m\n",
              "6   1000       ruu   50    100      f\n",
              "7   1111       rub    0    100      f\n",
              "8   5000        jk   65     99      m\n",
              "9   2120         A   12     95      m\n",
              "10  4569         B   13     58      f\n",
              "11  8759         C  154     87      f\n",
              "12  5678       abc   65    999      m\n",
              "13  6520        md  200      0      m\n",
              "14  6000        dd   70     12      m"
            ]
          },
          "execution_count": 19,
          "metadata": {},
          "output_type": "execute_result"
        }
      ],
      "source": [
        "data = {\"ID\":[4000,5555,9999,1779,5361,9795,1000,1111,5000,2120,4569,8759,5678,6520,6000],\"Name\":[\"nadun\",\"channa\",\"perera\",\"Ruvi\",\"Ruvindya\",\"sachi\",\"ruu\",\"rub\",\"jk\",\"A\",\"B\",\"C\",\"abc\",\"md\",\"dd\"],\"Age\":[21,52,250,5,95,20,50,0,65,12,13,154,65,200,70],\"Marks\":[60,1000,2,100,60,14,100,100,99,95,58,87,999,0,12],\"Gender\":[\"m\",\"f\",\"f\",\"m\",\"f\",\"m\",\"f\",\"f\",\"m\",\"m\",\"f\",\"f\",\"m\",\"m\",\"m\"]}\n",
        "df = pd.DataFrame(data)\n",
        "df"
      ]
    },
    {
      "cell_type": "markdown",
      "id": "778f8a6f",
      "metadata": {
        "id": "778f8a6f"
      },
      "source": [
        "# Detecting the outliers using aboxplot"
      ]
    },
    {
      "cell_type": "code",
      "execution_count": null,
      "id": "f233dede",
      "metadata": {
        "id": "f233dede",
        "outputId": "fa94f51f-45ca-4644-9c15-e00956e0f97f"
      },
      "outputs": [
        {
          "data": {
            "text/html": [
              "<div>\n",
              "<style scoped>\n",
              "    .dataframe tbody tr th:only-of-type {\n",
              "        vertical-align: middle;\n",
              "    }\n",
              "\n",
              "    .dataframe tbody tr th {\n",
              "        vertical-align: top;\n",
              "    }\n",
              "\n",
              "    .dataframe thead th {\n",
              "        text-align: right;\n",
              "    }\n",
              "</style>\n",
              "<table border=\"1\" class=\"dataframe\">\n",
              "  <thead>\n",
              "    <tr style=\"text-align: right;\">\n",
              "      <th></th>\n",
              "      <th>Age</th>\n",
              "      <th>Marks</th>\n",
              "    </tr>\n",
              "  </thead>\n",
              "  <tbody>\n",
              "    <tr>\n",
              "      <th>0</th>\n",
              "      <td>21</td>\n",
              "      <td>60</td>\n",
              "    </tr>\n",
              "    <tr>\n",
              "      <th>1</th>\n",
              "      <td>52</td>\n",
              "      <td>1000</td>\n",
              "    </tr>\n",
              "    <tr>\n",
              "      <th>2</th>\n",
              "      <td>250</td>\n",
              "      <td>2</td>\n",
              "    </tr>\n",
              "    <tr>\n",
              "      <th>3</th>\n",
              "      <td>5</td>\n",
              "      <td>100</td>\n",
              "    </tr>\n",
              "    <tr>\n",
              "      <th>4</th>\n",
              "      <td>95</td>\n",
              "      <td>60</td>\n",
              "    </tr>\n",
              "    <tr>\n",
              "      <th>5</th>\n",
              "      <td>20</td>\n",
              "      <td>14</td>\n",
              "    </tr>\n",
              "    <tr>\n",
              "      <th>6</th>\n",
              "      <td>50</td>\n",
              "      <td>100</td>\n",
              "    </tr>\n",
              "    <tr>\n",
              "      <th>7</th>\n",
              "      <td>0</td>\n",
              "      <td>100</td>\n",
              "    </tr>\n",
              "    <tr>\n",
              "      <th>8</th>\n",
              "      <td>65</td>\n",
              "      <td>99</td>\n",
              "    </tr>\n",
              "    <tr>\n",
              "      <th>9</th>\n",
              "      <td>12</td>\n",
              "      <td>95</td>\n",
              "    </tr>\n",
              "    <tr>\n",
              "      <th>10</th>\n",
              "      <td>13</td>\n",
              "      <td>58</td>\n",
              "    </tr>\n",
              "    <tr>\n",
              "      <th>11</th>\n",
              "      <td>154</td>\n",
              "      <td>87</td>\n",
              "    </tr>\n",
              "    <tr>\n",
              "      <th>12</th>\n",
              "      <td>65</td>\n",
              "      <td>999</td>\n",
              "    </tr>\n",
              "    <tr>\n",
              "      <th>13</th>\n",
              "      <td>200</td>\n",
              "      <td>0</td>\n",
              "    </tr>\n",
              "    <tr>\n",
              "      <th>14</th>\n",
              "      <td>70</td>\n",
              "      <td>12</td>\n",
              "    </tr>\n",
              "  </tbody>\n",
              "</table>\n",
              "</div>"
            ],
            "text/plain": [
              "    Age  Marks\n",
              "0    21     60\n",
              "1    52   1000\n",
              "2   250      2\n",
              "3     5    100\n",
              "4    95     60\n",
              "5    20     14\n",
              "6    50    100\n",
              "7     0    100\n",
              "8    65     99\n",
              "9    12     95\n",
              "10   13     58\n",
              "11  154     87\n",
              "12   65    999\n",
              "13  200      0\n",
              "14   70     12"
            ]
          },
          "execution_count": 21,
          "metadata": {},
          "output_type": "execute_result"
        }
      ],
      "source": [
        "df.iloc[:,2:4]"
      ]
    },
    {
      "cell_type": "code",
      "execution_count": null,
      "id": "eff1be30",
      "metadata": {
        "id": "eff1be30",
        "outputId": "8c1cc786-de37-4c77-9739-cda7c5cb53e7"
      },
      "outputs": [
        {
          "data": {
            "text/plain": [
              "<AxesSubplot:>"
            ]
          },
          "execution_count": 22,
          "metadata": {},
          "output_type": "execute_result"
        },
        {
          "data": {
            "image/png": "[encoded data removed]",
            "text/plain": [
              "<Figure size 432x288 with 1 Axes>"
            ]
          },
          "metadata": {
            "needs_background": "light"
          },
          "output_type": "display_data"
        }
      ],
      "source": [
        "df.iloc[:,2:4].boxplot()"
      ]
    },
    {
      "cell_type": "markdown",
      "id": "a8b3ce7e",
      "metadata": {
        "id": "a8b3ce7e"
      },
      "source": [
        "# Detecting outliers using 1.5*IQR rule"
      ]
    },
    {
      "cell_type": "markdown",
      "id": "ad781193",
      "metadata": {
        "id": "ad781193"
      },
      "source": [
        "# for one column detect and delete outliers"
      ]
    },
    {
      "cell_type": "code",
      "execution_count": null,
      "id": "3ab048ea",
      "metadata": {
        "id": "3ab048ea"
      },
      "outputs": [],
      "source": [
        "#Age\n",
        "Q1=df[\"Age\"].quantile(0.25)\n",
        "Q3=df[\"Age\"].quantile(0.75)"
      ]
    },
    {
      "cell_type": "code",
      "execution_count": null,
      "id": "2ee44b4d",
      "metadata": {
        "id": "2ee44b4d",
        "outputId": "5f80d622-0b89-41b3-ec5e-1d8860198106"
      },
      "outputs": [
        {
          "data": {
            "text/plain": [
              "66.0"
            ]
          },
          "execution_count": 24,
          "metadata": {},
          "output_type": "execute_result"
        }
      ],
      "source": [
        "IQR=Q3-Q1\n",
        "IQR"
      ]
    },
    {
      "cell_type": "code",
      "execution_count": null,
      "id": "71f60a02",
      "metadata": {
        "id": "71f60a02",
        "outputId": "15cb40ca-c919-4d39-cebf-5e9f15da09f5"
      },
      "outputs": [
        {
          "data": {
            "text/plain": [
              "0     False\n",
              "1     False\n",
              "2      True\n",
              "3     False\n",
              "4     False\n",
              "5     False\n",
              "6     False\n",
              "7     False\n",
              "8     False\n",
              "9     False\n",
              "10    False\n",
              "11    False\n",
              "12    False\n",
              "13     True\n",
              "14    False\n",
              "Name: Age, dtype: bool"
            ]
          },
          "execution_count": 29,
          "metadata": {},
          "output_type": "execute_result"
        }
      ],
      "source": [
        "out_rows=(df[\"Age\"]<(Q1-1.5*IQR)) | (df[\"Age\"]>(Q3+1.5*IQR))\n",
        "out_rows"
      ]
    },
    {
      "cell_type": "code",
      "execution_count": null,
      "id": "3d807627",
      "metadata": {
        "id": "3d807627",
        "outputId": "8b978a8c-f803-472d-a7da-c1abd08183ec"
      },
      "outputs": [
        {
          "data": {
            "text/plain": [
              "2"
            ]
          },
          "execution_count": 27,
          "metadata": {},
          "output_type": "execute_result"
        }
      ],
      "source": [
        "((df[\"Age\"]<(Q1-1.5*IQR)) | (df[\"Age\"]>(Q3+1.5*IQR))).sum()"
      ]
    },
    {
      "cell_type": "code",
      "execution_count": null,
      "id": "7a99a9b3",
      "metadata": {
        "id": "7a99a9b3",
        "outputId": "e38e5600-5bb5-418a-92df-c888f805b1ab"
      },
      "outputs": [
        {
          "data": {
            "text/html": [
              "<div>\n",
              "<style scoped>\n",
              "    .dataframe tbody tr th:only-of-type {\n",
              "        vertical-align: middle;\n",
              "    }\n",
              "\n",
              "    .dataframe tbody tr th {\n",
              "        vertical-align: top;\n",
              "    }\n",
              "\n",
              "    .dataframe thead th {\n",
              "        text-align: right;\n",
              "    }\n",
              "</style>\n",
              "<table border=\"1\" class=\"dataframe\">\n",
              "  <thead>\n",
              "    <tr style=\"text-align: right;\">\n",
              "      <th></th>\n",
              "      <th>ID</th>\n",
              "      <th>Name</th>\n",
              "      <th>Age</th>\n",
              "      <th>Marks</th>\n",
              "      <th>Gender</th>\n",
              "    </tr>\n",
              "  </thead>\n",
              "  <tbody>\n",
              "    <tr>\n",
              "      <th>0</th>\n",
              "      <td>4000</td>\n",
              "      <td>nadun</td>\n",
              "      <td>21</td>\n",
              "      <td>60</td>\n",
              "      <td>m</td>\n",
              "    </tr>\n",
              "    <tr>\n",
              "      <th>1</th>\n",
              "      <td>5555</td>\n",
              "      <td>channa</td>\n",
              "      <td>52</td>\n",
              "      <td>1000</td>\n",
              "      <td>f</td>\n",
              "    </tr>\n",
              "    <tr>\n",
              "      <th>3</th>\n",
              "      <td>1779</td>\n",
              "      <td>Ruvi</td>\n",
              "      <td>5</td>\n",
              "      <td>100</td>\n",
              "      <td>m</td>\n",
              "    </tr>\n",
              "    <tr>\n",
              "      <th>4</th>\n",
              "      <td>5361</td>\n",
              "      <td>Ruvindya</td>\n",
              "      <td>95</td>\n",
              "      <td>60</td>\n",
              "      <td>f</td>\n",
              "    </tr>\n",
              "    <tr>\n",
              "      <th>5</th>\n",
              "      <td>9795</td>\n",
              "      <td>sachi</td>\n",
              "      <td>20</td>\n",
              "      <td>14</td>\n",
              "      <td>m</td>\n",
              "    </tr>\n",
              "    <tr>\n",
              "      <th>6</th>\n",
              "      <td>1000</td>\n",
              "      <td>ruu</td>\n",
              "      <td>50</td>\n",
              "      <td>100</td>\n",
              "      <td>f</td>\n",
              "    </tr>\n",
              "    <tr>\n",
              "      <th>7</th>\n",
              "      <td>1111</td>\n",
              "      <td>rub</td>\n",
              "      <td>0</td>\n",
              "      <td>100</td>\n",
              "      <td>f</td>\n",
              "    </tr>\n",
              "    <tr>\n",
              "      <th>8</th>\n",
              "      <td>5000</td>\n",
              "      <td>jk</td>\n",
              "      <td>65</td>\n",
              "      <td>99</td>\n",
              "      <td>m</td>\n",
              "    </tr>\n",
              "    <tr>\n",
              "      <th>9</th>\n",
              "      <td>2120</td>\n",
              "      <td>A</td>\n",
              "      <td>12</td>\n",
              "      <td>95</td>\n",
              "      <td>m</td>\n",
              "    </tr>\n",
              "    <tr>\n",
              "      <th>10</th>\n",
              "      <td>4569</td>\n",
              "      <td>B</td>\n",
              "      <td>13</td>\n",
              "      <td>58</td>\n",
              "      <td>f</td>\n",
              "    </tr>\n",
              "    <tr>\n",
              "      <th>11</th>\n",
              "      <td>8759</td>\n",
              "      <td>C</td>\n",
              "      <td>154</td>\n",
              "      <td>87</td>\n",
              "      <td>f</td>\n",
              "    </tr>\n",
              "    <tr>\n",
              "      <th>12</th>\n",
              "      <td>5678</td>\n",
              "      <td>abc</td>\n",
              "      <td>65</td>\n",
              "      <td>999</td>\n",
              "      <td>m</td>\n",
              "    </tr>\n",
              "    <tr>\n",
              "      <th>14</th>\n",
              "      <td>6000</td>\n",
              "      <td>dd</td>\n",
              "      <td>70</td>\n",
              "      <td>12</td>\n",
              "      <td>m</td>\n",
              "    </tr>\n",
              "  </tbody>\n",
              "</table>\n",
              "</div>"
            ],
            "text/plain": [
              "      ID      Name  Age  Marks Gender\n",
              "0   4000     nadun   21     60      m\n",
              "1   5555    channa   52   1000      f\n",
              "3   1779      Ruvi    5    100      m\n",
              "4   5361  Ruvindya   95     60      f\n",
              "5   9795     sachi   20     14      m\n",
              "6   1000       ruu   50    100      f\n",
              "7   1111       rub    0    100      f\n",
              "8   5000        jk   65     99      m\n",
              "9   2120         A   12     95      m\n",
              "10  4569         B   13     58      f\n",
              "11  8759         C  154     87      f\n",
              "12  5678       abc   65    999      m\n",
              "14  6000        dd   70     12      m"
            ]
          },
          "execution_count": 30,
          "metadata": {},
          "output_type": "execute_result"
        }
      ],
      "source": [
        "#remove outlirs\n",
        "df_new=df[~out_rows]\n",
        "df_new"
      ]
    },
    {
      "cell_type": "code",
      "execution_count": null,
      "id": "ab502d15",
      "metadata": {
        "id": "ab502d15",
        "outputId": "a0d4677f-ae40-4b54-bdae-a67ff92d1c54"
      },
      "outputs": [
        {
          "data": {
            "text/html": [
              "<div>\n",
              "<style scoped>\n",
              "    .dataframe tbody tr th:only-of-type {\n",
              "        vertical-align: middle;\n",
              "    }\n",
              "\n",
              "    .dataframe tbody tr th {\n",
              "        vertical-align: top;\n",
              "    }\n",
              "\n",
              "    .dataframe thead th {\n",
              "        text-align: right;\n",
              "    }\n",
              "</style>\n",
              "<table border=\"1\" class=\"dataframe\">\n",
              "  <thead>\n",
              "    <tr style=\"text-align: right;\">\n",
              "      <th></th>\n",
              "      <th>ID</th>\n",
              "      <th>Name</th>\n",
              "      <th>Age</th>\n",
              "      <th>Marks</th>\n",
              "      <th>Gender</th>\n",
              "    </tr>\n",
              "  </thead>\n",
              "  <tbody>\n",
              "    <tr>\n",
              "      <th>0</th>\n",
              "      <td>4000</td>\n",
              "      <td>nadun</td>\n",
              "      <td>21</td>\n",
              "      <td>60</td>\n",
              "      <td>m</td>\n",
              "    </tr>\n",
              "    <tr>\n",
              "      <th>1</th>\n",
              "      <td>5555</td>\n",
              "      <td>channa</td>\n",
              "      <td>52</td>\n",
              "      <td>1000</td>\n",
              "      <td>f</td>\n",
              "    </tr>\n",
              "    <tr>\n",
              "      <th>2</th>\n",
              "      <td>9999</td>\n",
              "      <td>perera</td>\n",
              "      <td>250</td>\n",
              "      <td>2</td>\n",
              "      <td>f</td>\n",
              "    </tr>\n",
              "    <tr>\n",
              "      <th>3</th>\n",
              "      <td>1779</td>\n",
              "      <td>Ruvi</td>\n",
              "      <td>5</td>\n",
              "      <td>100</td>\n",
              "      <td>m</td>\n",
              "    </tr>\n",
              "    <tr>\n",
              "      <th>4</th>\n",
              "      <td>5361</td>\n",
              "      <td>Ruvindya</td>\n",
              "      <td>95</td>\n",
              "      <td>60</td>\n",
              "      <td>f</td>\n",
              "    </tr>\n",
              "    <tr>\n",
              "      <th>5</th>\n",
              "      <td>9795</td>\n",
              "      <td>sachi</td>\n",
              "      <td>20</td>\n",
              "      <td>14</td>\n",
              "      <td>m</td>\n",
              "    </tr>\n",
              "    <tr>\n",
              "      <th>6</th>\n",
              "      <td>1000</td>\n",
              "      <td>ruu</td>\n",
              "      <td>50</td>\n",
              "      <td>100</td>\n",
              "      <td>f</td>\n",
              "    </tr>\n",
              "    <tr>\n",
              "      <th>7</th>\n",
              "      <td>1111</td>\n",
              "      <td>rub</td>\n",
              "      <td>0</td>\n",
              "      <td>100</td>\n",
              "      <td>f</td>\n",
              "    </tr>\n",
              "    <tr>\n",
              "      <th>8</th>\n",
              "      <td>5000</td>\n",
              "      <td>jk</td>\n",
              "      <td>65</td>\n",
              "      <td>99</td>\n",
              "      <td>m</td>\n",
              "    </tr>\n",
              "    <tr>\n",
              "      <th>9</th>\n",
              "      <td>2120</td>\n",
              "      <td>A</td>\n",
              "      <td>12</td>\n",
              "      <td>95</td>\n",
              "      <td>m</td>\n",
              "    </tr>\n",
              "    <tr>\n",
              "      <th>10</th>\n",
              "      <td>4569</td>\n",
              "      <td>B</td>\n",
              "      <td>13</td>\n",
              "      <td>58</td>\n",
              "      <td>f</td>\n",
              "    </tr>\n",
              "    <tr>\n",
              "      <th>11</th>\n",
              "      <td>8759</td>\n",
              "      <td>C</td>\n",
              "      <td>154</td>\n",
              "      <td>87</td>\n",
              "      <td>f</td>\n",
              "    </tr>\n",
              "    <tr>\n",
              "      <th>12</th>\n",
              "      <td>5678</td>\n",
              "      <td>abc</td>\n",
              "      <td>65</td>\n",
              "      <td>999</td>\n",
              "      <td>m</td>\n",
              "    </tr>\n",
              "    <tr>\n",
              "      <th>13</th>\n",
              "      <td>6520</td>\n",
              "      <td>md</td>\n",
              "      <td>200</td>\n",
              "      <td>0</td>\n",
              "      <td>m</td>\n",
              "    </tr>\n",
              "    <tr>\n",
              "      <th>14</th>\n",
              "      <td>6000</td>\n",
              "      <td>dd</td>\n",
              "      <td>70</td>\n",
              "      <td>12</td>\n",
              "      <td>m</td>\n",
              "    </tr>\n",
              "  </tbody>\n",
              "</table>\n",
              "</div>"
            ],
            "text/plain": [
              "      ID      Name  Age  Marks Gender\n",
              "0   4000     nadun   21     60      m\n",
              "1   5555    channa   52   1000      f\n",
              "2   9999    perera  250      2      f\n",
              "3   1779      Ruvi    5    100      m\n",
              "4   5361  Ruvindya   95     60      f\n",
              "5   9795     sachi   20     14      m\n",
              "6   1000       ruu   50    100      f\n",
              "7   1111       rub    0    100      f\n",
              "8   5000        jk   65     99      m\n",
              "9   2120         A   12     95      m\n",
              "10  4569         B   13     58      f\n",
              "11  8759         C  154     87      f\n",
              "12  5678       abc   65    999      m\n",
              "13  6520        md  200      0      m\n",
              "14  6000        dd   70     12      m"
            ]
          },
          "execution_count": 31,
          "metadata": {},
          "output_type": "execute_result"
        }
      ],
      "source": [
        "df"
      ]
    },
    {
      "cell_type": "code",
      "execution_count": null,
      "id": "02ac2d6d",
      "metadata": {
        "id": "02ac2d6d",
        "outputId": "b682d9f6-da3d-4fe3-e58f-450434094213"
      },
      "outputs": [
        {
          "data": {
            "text/plain": [
              "0"
            ]
          },
          "execution_count": 33,
          "metadata": {},
          "output_type": "execute_result"
        }
      ],
      "source": [
        "((df_new[\"Age\"]<(Q1-1.5*IQR)) | (df_new[\"Age\"]>(Q3+1.5*IQR))).sum()"
      ]
    },
    {
      "cell_type": "markdown",
      "id": "88c8cdad",
      "metadata": {
        "id": "88c8cdad"
      },
      "source": [
        "# For all columns detect and delete outliers"
      ]
    },
    {
      "cell_type": "code",
      "execution_count": null,
      "id": "1706ae72",
      "metadata": {
        "scrolled": true,
        "id": "1706ae72",
        "outputId": "3d331a9c-9721-45f3-9575-e003a4548fca"
      },
      "outputs": [
        {
          "data": {
            "text/plain": [
              "Age      66.0\n",
              "Marks    64.0\n",
              "dtype: float64"
            ]
          },
          "execution_count": 62,
          "metadata": {},
          "output_type": "execute_result"
        }
      ],
      "source": [
        "\n",
        "df1=df.drop(\"ID\",axis=1)\n",
        "Q1=df1.quantile(0.25)\n",
        "Q3=df1.quantile(0.75)\n",
        "IQR=Q3-Q1\n",
        "IQR"
      ]
    },
    {
      "cell_type": "code",
      "execution_count": null,
      "id": "e7fb8216",
      "metadata": {
        "id": "e7fb8216",
        "outputId": "02885f2f-1dae-434e-93be-88db4395399a"
      },
      "outputs": [
        {
          "name": "stderr",
          "output_type": "stream",
          "text": [
            "<ipython-input-65-eb15995d2917>:1: FutureWarning: Automatic reindexing on DataFrame vs Series comparisons is deprecated and will raise ValueError in a future version.  Do `left, right = left.align(right, axis=1, copy=False)` before e.g. `left == right`\n",
            "  out_rows=((df1<(Q1-1.5*IQR)) | (df1>(Q3+1.5*IQR))).any(axis=1)\n",
            "<ipython-input-65-eb15995d2917>:1: FutureWarning: Automatic reindexing on DataFrame vs Series comparisons is deprecated and will raise ValueError in a future version.  Do `left, right = left.align(right, axis=1, copy=False)` before e.g. `left == right`\n",
            "  out_rows=((df1<(Q1-1.5*IQR)) | (df1>(Q3+1.5*IQR))).any(axis=1)\n"
          ]
        },
        {
          "data": {
            "text/html": [
              "<div>\n",
              "<style scoped>\n",
              "    .dataframe tbody tr th:only-of-type {\n",
              "        vertical-align: middle;\n",
              "    }\n",
              "\n",
              "    .dataframe tbody tr th {\n",
              "        vertical-align: top;\n",
              "    }\n",
              "\n",
              "    .dataframe thead th {\n",
              "        text-align: right;\n",
              "    }\n",
              "</style>\n",
              "<table border=\"1\" class=\"dataframe\">\n",
              "  <thead>\n",
              "    <tr style=\"text-align: right;\">\n",
              "      <th></th>\n",
              "      <th>ID</th>\n",
              "      <th>Name</th>\n",
              "      <th>Age</th>\n",
              "      <th>Marks</th>\n",
              "      <th>Gender</th>\n",
              "    </tr>\n",
              "  </thead>\n",
              "  <tbody>\n",
              "    <tr>\n",
              "      <th>0</th>\n",
              "      <td>4000</td>\n",
              "      <td>nadun</td>\n",
              "      <td>21</td>\n",
              "      <td>60</td>\n",
              "      <td>m</td>\n",
              "    </tr>\n",
              "    <tr>\n",
              "      <th>3</th>\n",
              "      <td>1779</td>\n",
              "      <td>Ruvi</td>\n",
              "      <td>5</td>\n",
              "      <td>100</td>\n",
              "      <td>m</td>\n",
              "    </tr>\n",
              "    <tr>\n",
              "      <th>4</th>\n",
              "      <td>5361</td>\n",
              "      <td>Ruvindya</td>\n",
              "      <td>95</td>\n",
              "      <td>60</td>\n",
              "      <td>f</td>\n",
              "    </tr>\n",
              "    <tr>\n",
              "      <th>5</th>\n",
              "      <td>9795</td>\n",
              "      <td>sachi</td>\n",
              "      <td>20</td>\n",
              "      <td>14</td>\n",
              "      <td>m</td>\n",
              "    </tr>\n",
              "    <tr>\n",
              "      <th>6</th>\n",
              "      <td>1000</td>\n",
              "      <td>ruu</td>\n",
              "      <td>50</td>\n",
              "      <td>100</td>\n",
              "      <td>f</td>\n",
              "    </tr>\n",
              "    <tr>\n",
              "      <th>7</th>\n",
              "      <td>1111</td>\n",
              "      <td>rub</td>\n",
              "      <td>0</td>\n",
              "      <td>100</td>\n",
              "      <td>f</td>\n",
              "    </tr>\n",
              "    <tr>\n",
              "      <th>8</th>\n",
              "      <td>5000</td>\n",
              "      <td>jk</td>\n",
              "      <td>65</td>\n",
              "      <td>99</td>\n",
              "      <td>m</td>\n",
              "    </tr>\n",
              "    <tr>\n",
              "      <th>9</th>\n",
              "      <td>2120</td>\n",
              "      <td>A</td>\n",
              "      <td>12</td>\n",
              "      <td>95</td>\n",
              "      <td>m</td>\n",
              "    </tr>\n",
              "    <tr>\n",
              "      <th>10</th>\n",
              "      <td>4569</td>\n",
              "      <td>B</td>\n",
              "      <td>13</td>\n",
              "      <td>58</td>\n",
              "      <td>f</td>\n",
              "    </tr>\n",
              "    <tr>\n",
              "      <th>11</th>\n",
              "      <td>8759</td>\n",
              "      <td>C</td>\n",
              "      <td>154</td>\n",
              "      <td>87</td>\n",
              "      <td>f</td>\n",
              "    </tr>\n",
              "    <tr>\n",
              "      <th>14</th>\n",
              "      <td>6000</td>\n",
              "      <td>dd</td>\n",
              "      <td>70</td>\n",
              "      <td>12</td>\n",
              "      <td>m</td>\n",
              "    </tr>\n",
              "  </tbody>\n",
              "</table>\n",
              "</div>"
            ],
            "text/plain": [
              "      ID      Name  Age  Marks Gender\n",
              "0   4000     nadun   21     60      m\n",
              "3   1779      Ruvi    5    100      m\n",
              "4   5361  Ruvindya   95     60      f\n",
              "5   9795     sachi   20     14      m\n",
              "6   1000       ruu   50    100      f\n",
              "7   1111       rub    0    100      f\n",
              "8   5000        jk   65     99      m\n",
              "9   2120         A   12     95      m\n",
              "10  4569         B   13     58      f\n",
              "11  8759         C  154     87      f\n",
              "14  6000        dd   70     12      m"
            ]
          },
          "execution_count": 65,
          "metadata": {},
          "output_type": "execute_result"
        }
      ],
      "source": [
        "out_rows=((df1<(Q1-1.5*IQR)) | (df1>(Q3+1.5*IQR))).any(axis=1)\n",
        "df_new2=df[~out_rows]\n",
        "df_new2"
      ]
    },
    {
      "cell_type": "code",
      "execution_count": null,
      "id": "954ec9a3",
      "metadata": {
        "id": "954ec9a3",
        "outputId": "c5b72d84-7f24-4e82-dcd4-2f619cb52fd6"
      },
      "outputs": [
        {
          "data": {
            "text/html": [
              "<div>\n",
              "<style scoped>\n",
              "    .dataframe tbody tr th:only-of-type {\n",
              "        vertical-align: middle;\n",
              "    }\n",
              "\n",
              "    .dataframe tbody tr th {\n",
              "        vertical-align: top;\n",
              "    }\n",
              "\n",
              "    .dataframe thead th {\n",
              "        text-align: right;\n",
              "    }\n",
              "</style>\n",
              "<table border=\"1\" class=\"dataframe\">\n",
              "  <thead>\n",
              "    <tr style=\"text-align: right;\">\n",
              "      <th></th>\n",
              "      <th>ID</th>\n",
              "      <th>Name</th>\n",
              "      <th>Age</th>\n",
              "      <th>Marks</th>\n",
              "      <th>Gender</th>\n",
              "    </tr>\n",
              "  </thead>\n",
              "  <tbody>\n",
              "    <tr>\n",
              "      <th>0</th>\n",
              "      <td>4000</td>\n",
              "      <td>nadun</td>\n",
              "      <td>21</td>\n",
              "      <td>60</td>\n",
              "      <td>m</td>\n",
              "    </tr>\n",
              "    <tr>\n",
              "      <th>1</th>\n",
              "      <td>5555</td>\n",
              "      <td>channa</td>\n",
              "      <td>52</td>\n",
              "      <td>1000</td>\n",
              "      <td>f</td>\n",
              "    </tr>\n",
              "    <tr>\n",
              "      <th>2</th>\n",
              "      <td>9999</td>\n",
              "      <td>perera</td>\n",
              "      <td>250</td>\n",
              "      <td>2</td>\n",
              "      <td>f</td>\n",
              "    </tr>\n",
              "    <tr>\n",
              "      <th>3</th>\n",
              "      <td>1779</td>\n",
              "      <td>Ruvi</td>\n",
              "      <td>5</td>\n",
              "      <td>100</td>\n",
              "      <td>m</td>\n",
              "    </tr>\n",
              "    <tr>\n",
              "      <th>4</th>\n",
              "      <td>5361</td>\n",
              "      <td>Ruvindya</td>\n",
              "      <td>95</td>\n",
              "      <td>60</td>\n",
              "      <td>f</td>\n",
              "    </tr>\n",
              "    <tr>\n",
              "      <th>5</th>\n",
              "      <td>9795</td>\n",
              "      <td>sachi</td>\n",
              "      <td>20</td>\n",
              "      <td>14</td>\n",
              "      <td>m</td>\n",
              "    </tr>\n",
              "    <tr>\n",
              "      <th>6</th>\n",
              "      <td>1000</td>\n",
              "      <td>ruu</td>\n",
              "      <td>50</td>\n",
              "      <td>100</td>\n",
              "      <td>f</td>\n",
              "    </tr>\n",
              "    <tr>\n",
              "      <th>7</th>\n",
              "      <td>1111</td>\n",
              "      <td>rub</td>\n",
              "      <td>0</td>\n",
              "      <td>100</td>\n",
              "      <td>f</td>\n",
              "    </tr>\n",
              "    <tr>\n",
              "      <th>8</th>\n",
              "      <td>5000</td>\n",
              "      <td>jk</td>\n",
              "      <td>65</td>\n",
              "      <td>99</td>\n",
              "      <td>m</td>\n",
              "    </tr>\n",
              "    <tr>\n",
              "      <th>9</th>\n",
              "      <td>2120</td>\n",
              "      <td>A</td>\n",
              "      <td>12</td>\n",
              "      <td>95</td>\n",
              "      <td>m</td>\n",
              "    </tr>\n",
              "    <tr>\n",
              "      <th>10</th>\n",
              "      <td>4569</td>\n",
              "      <td>B</td>\n",
              "      <td>13</td>\n",
              "      <td>58</td>\n",
              "      <td>f</td>\n",
              "    </tr>\n",
              "    <tr>\n",
              "      <th>11</th>\n",
              "      <td>8759</td>\n",
              "      <td>C</td>\n",
              "      <td>154</td>\n",
              "      <td>87</td>\n",
              "      <td>f</td>\n",
              "    </tr>\n",
              "    <tr>\n",
              "      <th>12</th>\n",
              "      <td>5678</td>\n",
              "      <td>abc</td>\n",
              "      <td>65</td>\n",
              "      <td>999</td>\n",
              "      <td>m</td>\n",
              "    </tr>\n",
              "    <tr>\n",
              "      <th>13</th>\n",
              "      <td>6520</td>\n",
              "      <td>md</td>\n",
              "      <td>200</td>\n",
              "      <td>0</td>\n",
              "      <td>m</td>\n",
              "    </tr>\n",
              "    <tr>\n",
              "      <th>14</th>\n",
              "      <td>6000</td>\n",
              "      <td>dd</td>\n",
              "      <td>70</td>\n",
              "      <td>12</td>\n",
              "      <td>m</td>\n",
              "    </tr>\n",
              "  </tbody>\n",
              "</table>\n",
              "</div>"
            ],
            "text/plain": [
              "      ID      Name  Age  Marks Gender\n",
              "0   4000     nadun   21     60      m\n",
              "1   5555    channa   52   1000      f\n",
              "2   9999    perera  250      2      f\n",
              "3   1779      Ruvi    5    100      m\n",
              "4   5361  Ruvindya   95     60      f\n",
              "5   9795     sachi   20     14      m\n",
              "6   1000       ruu   50    100      f\n",
              "7   1111       rub    0    100      f\n",
              "8   5000        jk   65     99      m\n",
              "9   2120         A   12     95      m\n",
              "10  4569         B   13     58      f\n",
              "11  8759         C  154     87      f\n",
              "12  5678       abc   65    999      m\n",
              "13  6520        md  200      0      m\n",
              "14  6000        dd   70     12      m"
            ]
          },
          "execution_count": 59,
          "metadata": {},
          "output_type": "execute_result"
        }
      ],
      "source": [
        "df"
      ]
    },
    {
      "cell_type": "code",
      "execution_count": null,
      "id": "0b08f9ca",
      "metadata": {
        "id": "0b08f9ca"
      },
      "outputs": [],
      "source": []
    }
  ],
  "metadata": {
    "kernelspec": {
      "display_name": "Python 3",
      "language": "python",
      "name": "python3"
    },
    "language_info": {
      "codemirror_mode": {
        "name": "ipython",
        "version": 3
      },
      "file_extension": ".py",
      "mimetype": "text/x-python",
      "name": "python",
      "nbconvert_exporter": "python",
      "pygments_lexer": "ipython3",
      "version": "3.8.8"
    },
    "colab": {
      "provenance": [],
      "include_colab_link": true
    }
  },
  "nbformat": 4,
  "nbformat_minor": 5
}