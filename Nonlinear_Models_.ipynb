{
  "nbformat": 4,
  "nbformat_minor": 0,
  "metadata": {
    "colab": {
      "provenance": [],
      "authorship_tag": "ABX9TyOkU6zTcfA0Xt5JRTArz2u4",
      "include_colab_link": true
    },
    "kernelspec": {
      "name": "python3",
      "display_name": "Python 3"
    },
    "language_info": {
      "name": "python"
    }
  },
  "cells": [
    {
      "cell_type": "markdown",
      "metadata": {
        "id": "view-in-github",
        "colab_type": "text"
      },
      "source": [
        "<a href=\"https://colab.research.google.com/github/nadunchanna98/machine-learning/blob/main/Nonlinear_Models_.ipynb\" target=\"_parent\"><img src=\"https://colab.research.google.com/assets/colab-badge.svg\" alt=\"Open In Colab\"/></a>"
      ]
    },
    {
      "cell_type": "markdown",
      "source": [
        "#2019E094  Machine Learning Assignment 3"
      ],
      "metadata": {
        "id": "RqjFDrUo8Ppl"
      }
    },
    {
      "cell_type": "markdown",
      "source": [
        "###Keras datasets.ANN for classification and regression.\n"
      ],
      "metadata": {
        "id": "Qs8Sqe8e5ylX"
      }
    },
    {
      "cell_type": "markdown",
      "source": [
        "###1 ) Use the Boston housing dataset from Keras for this assignment."
      ],
      "metadata": {
        "id": "kfAIZjuS50ld"
      }
    },
    {
      "cell_type": "code",
      "execution_count": 1,
      "metadata": {
        "id": "CAQIMYNu49EP"
      },
      "outputs": [],
      "source": [
        "import numpy as np\n",
        "import matplotlib.pyplot as plt\n",
        "from tensorflow import keras\n",
        "from sklearn.model_selection import train_test_split\n",
        "from sklearn.preprocessing import StandardScaler"
      ]
    },
    {
      "cell_type": "code",
      "source": [
        "# Step 1: Load the Boston housing dataset from Keras\n",
        "boston_housing = keras.datasets.boston_housing\n",
        "(train_data, train_targets), (test_data, test_targets) = boston_housing.load_data()"
      ],
      "metadata": {
        "colab": {
          "base_uri": "https://localhost:8080/"
        },
        "id": "KJg6EIwB5htj",
        "outputId": "f61fad72-ec87-4355-fc91-3e89f17eda07"
      },
      "execution_count": 2,
      "outputs": [
        {
          "output_type": "stream",
          "name": "stdout",
          "text": [
            "Downloading data from https://storage.googleapis.com/tensorflow/tf-keras-datasets/boston_housing.npz\n",
            "57026/57026 [==============================] - 0s 0us/step\n"
          ]
        }
      ]
    },
    {
      "cell_type": "code",
      "source": [
        "# Display the head of the data\n",
        "print(\"Train data:\")\n",
        "print(train_data[:5])  # Display the first 5 rows of the train_data\n",
        "print(\"Train targets:\")\n",
        "print(train_targets[:5])  # Display the first 5 rows of the train_targets"
      ],
      "metadata": {
        "colab": {
          "base_uri": "https://localhost:8080/"
        },
        "id": "s3axD3V1586f",
        "outputId": "1267676a-e34d-447e-8703-e440e1d171fe"
      },
      "execution_count": 4,
      "outputs": [
        {
          "output_type": "stream",
          "name": "stdout",
          "text": [
            "Train data:\n",
            "[[1.23247e+00 0.00000e+00 8.14000e+00 0.00000e+00 5.38000e-01 6.14200e+00\n",
            "  9.17000e+01 3.97690e+00 4.00000e+00 3.07000e+02 2.10000e+01 3.96900e+02\n",
            "  1.87200e+01]\n",
            " [2.17700e-02 8.25000e+01 2.03000e+00 0.00000e+00 4.15000e-01 7.61000e+00\n",
            "  1.57000e+01 6.27000e+00 2.00000e+00 3.48000e+02 1.47000e+01 3.95380e+02\n",
            "  3.11000e+00]\n",
            " [4.89822e+00 0.00000e+00 1.81000e+01 0.00000e+00 6.31000e-01 4.97000e+00\n",
            "  1.00000e+02 1.33250e+00 2.40000e+01 6.66000e+02 2.02000e+01 3.75520e+02\n",
            "  3.26000e+00]\n",
            " [3.96100e-02 0.00000e+00 5.19000e+00 0.00000e+00 5.15000e-01 6.03700e+00\n",
            "  3.45000e+01 5.98530e+00 5.00000e+00 2.24000e+02 2.02000e+01 3.96900e+02\n",
            "  8.01000e+00]\n",
            " [3.69311e+00 0.00000e+00 1.81000e+01 0.00000e+00 7.13000e-01 6.37600e+00\n",
            "  8.84000e+01 2.56710e+00 2.40000e+01 6.66000e+02 2.02000e+01 3.91430e+02\n",
            "  1.46500e+01]]\n",
            "Train targets:\n",
            "[15.2 42.3 50.  21.1 17.7]\n"
          ]
        }
      ]
    },
    {
      "cell_type": "markdown",
      "source": [
        "###2 ) Load that dataset directly from Keras using Python."
      ],
      "metadata": {
        "id": "SxSjPWAZ6qP1"
      }
    },
    {
      "cell_type": "code",
      "source": [
        "# Step 2: Preprocess the data\n",
        "scaler = StandardScaler()\n",
        "train_data = scaler.fit_transform(train_data)\n",
        "test_data = scaler.transform(test_data)"
      ],
      "metadata": {
        "id": "4G8BtZie6E9X"
      },
      "execution_count": 6,
      "outputs": []
    },
    {
      "cell_type": "markdown",
      "source": [
        "### 3 ) Fit an ANN model to predict the house price on the above data. Choose proper activation functions and number of hidden layers."
      ],
      "metadata": {
        "id": "FSKiBnHk7Nys"
      }
    },
    {
      "cell_type": "code",
      "source": [
        "# Step 3: Build and train the ANN model\n",
        "model = keras.models.Sequential([\n",
        "    keras.layers.Dense(64, activation='relu', input_shape=(train_data.shape[1],)),\n",
        "    keras.layers.Dense(64, activation='relu'),\n",
        "    keras.layers.Dense(1)\n",
        "])\n",
        "model.compile(optimizer='adam', loss='mse')\n",
        "model.fit(train_data, train_targets, epochs=100, batch_size=16, verbose=0)"
      ],
      "metadata": {
        "colab": {
          "base_uri": "https://localhost:8080/"
        },
        "id": "uI3f70zX6hPQ",
        "outputId": "7897c847-9059-4a48-b279-ead3f7392fc9"
      },
      "execution_count": 7,
      "outputs": [
        {
          "output_type": "execute_result",
          "data": {
            "text/plain": [
              "<keras.callbacks.History at 0x7ff5401e38e0>"
            ]
          },
          "metadata": {},
          "execution_count": 7
        }
      ]
    },
    {
      "cell_type": "markdown",
      "source": [
        "### 4 ) Use your model on the test data and evaluate your model.\n"
      ],
      "metadata": {
        "id": "1aCKlZvj7rKm"
      }
    },
    {
      "cell_type": "code",
      "source": [
        "# Step 4: Evaluate the model on the test data\n",
        "test_loss = model.evaluate(test_data, test_targets)"
      ],
      "metadata": {
        "colab": {
          "base_uri": "https://localhost:8080/"
        },
        "id": "8gdMa6fS7izy",
        "outputId": "94f175bc-59e1-4864-8398-4e90398b02a0"
      },
      "execution_count": 8,
      "outputs": [
        {
          "output_type": "stream",
          "name": "stdout",
          "text": [
            "4/4 [==============================] - 0s 3ms/step - loss: 18.0641\n"
          ]
        }
      ]
    },
    {
      "cell_type": "markdown",
      "source": [
        "### 5) Plot the actual target against the predicted target value."
      ],
      "metadata": {
        "id": "kh-D_s0175Gz"
      }
    },
    {
      "cell_type": "code",
      "source": [
        "# Step 5: Plot the actual target against the predicted target values\n",
        "predictions = model.predict(test_data).flatten()\n",
        "plt.scatter(test_targets, predictions)\n",
        "plt.xlabel('Actual House Price')\n",
        "plt.ylabel('Predicted House Price')\n",
        "plt.title('Actual vs. Predicted House Price')\n",
        "plt.show()"
      ],
      "metadata": {
        "colab": {
          "base_uri": "https://localhost:8080/",
          "height": 489
        },
        "id": "_ZdjKrdX70Zm",
        "outputId": "e65bf09b-7186-4e14-df0c-0f1a801d104d"
      },
      "execution_count": 9,
      "outputs": [
        {
          "output_type": "stream",
          "name": "stdout",
          "text": [
            "4/4 [==============================] - 1s 9ms/step\n"
          ]
        },
        {
          "output_type": "display_data",
          "data": {
            "text/plain": [
              "<Figure size 640x480 with 1 Axes>"
            ],
            "image/png": "[encoded data removed]"
          },
          "metadata": {}
        }
      ]
    }
  ]
}