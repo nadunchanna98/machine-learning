{
  "nbformat": 4,
  "nbformat_minor": 0,
  "metadata": {
    "colab": {
      "provenance": [],
      "authorship_tag": "ABX9TyOEIbQN9ZGevhOaWRaADXo+",
      "include_colab_link": true
    },
    "kernelspec": {
      "name": "python3",
      "display_name": "Python 3"
    },
    "language_info": {
      "name": "python"
    }
  },
  "cells": [
    {
      "cell_type": "markdown",
      "metadata": {
        "id": "view-in-github",
        "colab_type": "text"
      },
      "source": [
        "<a href=\"https://colab.research.google.com/github/nadunchanna98/machine-learning/blob/main/Nonlinear_Models_Lab03.ipynb\" target=\"_parent\"><img src=\"https://colab.research.google.com/assets/colab-badge.svg\" alt=\"Open In Colab\"/></a>"
      ]
    },
    {
      "cell_type": "markdown",
      "source": [
        "# 2019E094 LAB_03"
      ],
      "metadata": {
        "id": "02VR-qf6tHDG"
      }
    },
    {
      "cell_type": "markdown",
      "source": [
        "### 1. Study the dataset ’Fashion-MNIST’ in Keras. Answer the following questions in relation to the above dataset."
      ],
      "metadata": {
        "id": "fM6NP6XbtQJ9"
      }
    },
    {
      "cell_type": "markdown",
      "source": [
        "### **(a) Find out whether it can be used for regression or classification.**\n",
        "\n",
        "  The 'Fashion-MNIST' dataset can be used for classification tasks.\n",
        "\n",
        "### **(b) What is the size of the images?**\n",
        "\n",
        "  The size of the images in the dataset is 28x28 pixels.\n",
        "\n",
        "\n",
        "### **(c) How many images are there in the train data?**\n",
        "\n",
        "  The number of images in the training data is 60,000.\n",
        "\n",
        "\n",
        "### **(d) State the number of images in test data.**\n",
        "\n",
        "  The number of images in the test data is 10,000.\n",
        "\n",
        "\n",
        "### **(e) How many classes are there in the data? Write down those classes.**\n",
        "\n",
        "  There are 10 classes in the data, represented by the following labels:\n",
        "\n",
        "\n",
        "*   T-shirt/top\n",
        "*   Trouser\n",
        "*   Pullover\n",
        "*   Dress\n",
        "*   Coat\n",
        "*   Sandal\n",
        "*   Shirt\n",
        "*   Sneaker\n",
        "*   Bag\n",
        "*   Ankle boot"
      ],
      "metadata": {
        "id": "EcSzKKCTzhtt"
      }
    },
    {
      "cell_type": "markdown",
      "source": [
        "### 2. Load that dataset directly from Keras using Python.\n"
      ],
      "metadata": {
        "id": "ZLKkyYJRy_PF"
      }
    },
    {
      "cell_type": "code",
      "execution_count": 1,
      "metadata": {
        "colab": {
          "base_uri": "https://localhost:8080/"
        },
        "id": "MzO3hr54svq-",
        "outputId": "0971fe18-60c8-4adf-88ed-ed4984bf4d9d"
      },
      "outputs": [
        {
          "output_type": "stream",
          "name": "stdout",
          "text": [
            "Downloading data from https://storage.googleapis.com/tensorflow/tf-keras-datasets/train-labels-idx1-ubyte.gz\n",
            "29515/29515 [==============================] - 0s 0us/step\n",
            "Downloading data from https://storage.googleapis.com/tensorflow/tf-keras-datasets/train-images-idx3-ubyte.gz\n",
            "26421880/26421880 [==============================] - 0s 0us/step\n",
            "Downloading data from https://storage.googleapis.com/tensorflow/tf-keras-datasets/t10k-labels-idx1-ubyte.gz\n",
            "5148/5148 [==============================] - 0s 0us/step\n",
            "Downloading data from https://storage.googleapis.com/tensorflow/tf-keras-datasets/t10k-images-idx3-ubyte.gz\n",
            "4422102/4422102 [==============================] - 0s 0us/step\n"
          ]
        }
      ],
      "source": [
        "import tensorflow as tf\n",
        "from tensorflow.keras.datasets import fashion_mnist\n",
        "\n",
        "# Load the Fashion-MNIST dataset\n",
        "(train_images, train_labels), (test_images, test_labels) = fashion_mnist.load_data()"
      ]
    },
    {
      "cell_type": "markdown",
      "source": [
        "## First step again do using python "
      ],
      "metadata": {
        "id": "8-UXzOjF2E09"
      }
    },
    {
      "cell_type": "code",
      "source": [
        "#(b) What is the size of the images?\n",
        "image_size = train_images[0].shape\n",
        "print(\"Image size:\", image_size)"
      ],
      "metadata": {
        "colab": {
          "base_uri": "https://localhost:8080/"
        },
        "id": "joAYsnMatRG3",
        "outputId": "6a12fffc-ad06-43a9-b514-564ef4fcb380"
      },
      "execution_count": 13,
      "outputs": [
        {
          "output_type": "stream",
          "name": "stdout",
          "text": [
            "Image size: (28, 28)\n"
          ]
        }
      ]
    },
    {
      "cell_type": "code",
      "source": [
        "#(c) How many images are there in the train data?\n",
        "train_images_count = len(train_images)\n",
        "print(\"Number of images in train data:\", train_images_count)"
      ],
      "metadata": {
        "colab": {
          "base_uri": "https://localhost:8080/"
        },
        "id": "bdT6DTL3uMEu",
        "outputId": "5ba0b53a-6b17-4c87-fd57-2b43de26a3bc"
      },
      "execution_count": 14,
      "outputs": [
        {
          "output_type": "stream",
          "name": "stdout",
          "text": [
            "Number of images in train data: 60000\n"
          ]
        }
      ]
    },
    {
      "cell_type": "code",
      "source": [
        "#(d) State the number of images in test data.\n",
        "test_images_count = len(test_images)\n",
        "print(\"Number of images in test data:\", test_images_count)"
      ],
      "metadata": {
        "colab": {
          "base_uri": "https://localhost:8080/"
        },
        "id": "5Oh3Scl3vaOz",
        "outputId": "ab256c09-62d5-4416-905d-3ef04832c53e"
      },
      "execution_count": 5,
      "outputs": [
        {
          "output_type": "stream",
          "name": "stdout",
          "text": [
            "Number of images in test data: 10000\n"
          ]
        }
      ]
    },
    {
      "cell_type": "code",
      "source": [
        "#(e) How many classes are there in the data? Write down those classes.\n",
        "num_classes = len(set(train_labels))\n",
        "class_labels = set(train_labels)\n",
        "print(\"Number of classes:\", num_classes)\n",
        "print(\"Class labels:\", class_labels)"
      ],
      "metadata": {
        "colab": {
          "base_uri": "https://localhost:8080/"
        },
        "id": "YacTPZL8v9sp",
        "outputId": "6268ada2-e1d0-4a0b-8c7a-d2e65d85ce4b"
      },
      "execution_count": 6,
      "outputs": [
        {
          "output_type": "stream",
          "name": "stdout",
          "text": [
            "Number of classes: 10\n",
            "Class labels: {0, 1, 2, 3, 4, 5, 6, 7, 8, 9}\n"
          ]
        }
      ]
    },
    {
      "cell_type": "markdown",
      "source": [
        "### 3. View some images in training data, for example draw the 11th image in your training data.\n"
      ],
      "metadata": {
        "id": "mHGnTddTyubg"
      }
    },
    {
      "cell_type": "code",
      "source": [
        "import matplotlib.pyplot as plt\n",
        "\n",
        "# Display the 11th image in the training data\n",
        "plt.imshow(train_images[10], cmap='gray')\n",
        "plt.show()"
      ],
      "metadata": {
        "colab": {
          "base_uri": "https://localhost:8080/",
          "height": 430
        },
        "id": "KyRtwdwbwOmx",
        "outputId": "2f65060c-57ba-4e02-c41f-76a2c6451f2b"
      },
      "execution_count": 10,
      "outputs": [
        {
          "output_type": "display_data",
          "data": {
            "text/plain": [
              "<Figure size 640x480 with 1 Axes>"
            ],
            "image/png": "[encoded data removed]"
          },
          "metadata": {}
        }
      ]
    },
    {
      "cell_type": "code",
      "source": [
        "plt.imshow(train_images[9999], cmap='gray')\n",
        "plt.show()"
      ],
      "metadata": {
        "colab": {
          "base_uri": "https://localhost:8080/",
          "height": 430
        },
        "id": "5-eDFBPLzc8P",
        "outputId": "eb834274-dca8-4772-c254-f0827151f5b4"
      },
      "execution_count": 15,
      "outputs": [
        {
          "output_type": "display_data",
          "data": {
            "text/plain": [
              "<Figure size 640x480 with 1 Axes>"
            ],
            "image/png": "[encoded data removed]"
          },
          "metadata": {}
        }
      ]
    },
    {
      "cell_type": "markdown",
      "source": [
        "### 4. Normalize your data (train and test) between 0 and 1.\n",
        "#### Hint: This is a grayscale image has pixel values between 0 and 255.\n"
      ],
      "metadata": {
        "id": "KKxSE0TS2287"
      }
    },
    {
      "cell_type": "code",
      "source": [],
      "metadata": {
        "id": "InxE-sSb2rNb"
      },
      "execution_count": null,
      "outputs": []
    }
  ]
}