{
  "nbformat": 4,
  "nbformat_minor": 0,
  "metadata": {
    "colab": {
      "provenance": [],
      "authorship_tag": "ABX9TyNhWSuheP2XWRmsWYP/CfEA",
      "include_colab_link": true
    },
    "kernelspec": {
      "name": "python3",
      "display_name": "Python 3"
    },
    "language_info": {
      "name": "python"
    }
  },
  "cells": [
    {
      "cell_type": "markdown",
      "metadata": {
        "id": "view-in-github",
        "colab_type": "text"
      },
      "source": [
        "<a href=\"https://colab.research.google.com/github/nadunchanna98/machine-learning/blob/main/Nonlinear_Models_Lab03.ipynb\" target=\"_parent\"><img src=\"https://colab.research.google.com/assets/colab-badge.svg\" alt=\"Open In Colab\"/></a>"
      ]
    },
    {
      "cell_type": "markdown",
      "source": [
        "# 2019E094 LAB_03"
      ],
      "metadata": {
        "id": "02VR-qf6tHDG"
      }
    },
    {
      "cell_type": "markdown",
      "source": [
        "In this LAB\n",
        "\n",
        "*   Introducing Keras datasets.\n",
        "*   ANN for classification and regression.\n",
        "*   Evaluating the model.\n",
        "*   Introducing the validation dataset."
      ],
      "metadata": {
        "id": "QmAan-ar4zsr"
      }
    },
    {
      "cell_type": "markdown",
      "source": [
        "###### Keras is a deep learning library in Python which provides an interface for creating an artificial neural network. It is an open-sourced program. It is built on top of Tensorflow."
      ],
      "metadata": {
        "id": "oTxtVEpm4qYa"
      }
    },
    {
      "cell_type": "markdown",
      "source": [
        "### 1. Study the dataset ’Fashion-MNIST’ in Keras. Answer the following questions in relation to the above dataset."
      ],
      "metadata": {
        "id": "fM6NP6XbtQJ9"
      }
    },
    {
      "cell_type": "markdown",
      "source": [
        "### **(a) Find out whether it can be used for regression or classification.**\n",
        "\n",
        "  The 'Fashion-MNIST' dataset can be used for classification tasks.\n",
        "\n",
        "### **(b) What is the size of the images?**\n",
        "\n",
        "  The size of the images in the dataset is 28x28 pixels.\n",
        "\n",
        "\n",
        "### **(c) How many images are there in the train data?**\n",
        "\n",
        "  The number of images in the training data is 60,000.\n",
        "\n",
        "\n",
        "### **(d) State the number of images in test data.**\n",
        "\n",
        "  The number of images in the test data is 10,000.\n",
        "\n",
        "\n",
        "### **(e) How many classes are there in the data? Write down those classes.**\n",
        "\n",
        "  There are 10 classes in the data, represented by the following labels:\n",
        "\n",
        "\n",
        "*   T-shirt/top\n",
        "*   Trouser\n",
        "*   Pullover\n",
        "*   Dress\n",
        "*   Coat\n",
        "*   Sandal\n",
        "*   Shirt\n",
        "*   Sneaker\n",
        "*   Bag\n",
        "*   Ankle boot"
      ],
      "metadata": {
        "id": "EcSzKKCTzhtt"
      }
    },
    {
      "cell_type": "markdown",
      "source": [
        "### 2. Load that dataset directly from Keras using Python.\n"
      ],
      "metadata": {
        "id": "ZLKkyYJRy_PF"
      }
    },
    {
      "cell_type": "code",
      "execution_count": 44,
      "metadata": {
        "id": "MzO3hr54svq-"
      },
      "outputs": [],
      "source": [
        "import tensorflow as tf\n",
        "from tensorflow.keras.datasets import fashion_mnist\n",
        "\n",
        "# Load the Fashion-MNIST dataset\n",
        "(train_images, train_labels), (test_images, test_labels) = fashion_mnist.load_data()"
      ]
    },
    {
      "cell_type": "markdown",
      "source": [
        "## First step again do using python "
      ],
      "metadata": {
        "id": "8-UXzOjF2E09"
      }
    },
    {
      "cell_type": "code",
      "source": [
        "#(b) What is the size of the images?\n",
        "image_size = train_images[0].shape\n",
        "print(\"Image size:\", image_size)"
      ],
      "metadata": {
        "colab": {
          "base_uri": "https://localhost:8080/"
        },
        "id": "joAYsnMatRG3",
        "outputId": "1f6d9b17-e440-434e-a323-ec1dac76fad9"
      },
      "execution_count": 45,
      "outputs": [
        {
          "output_type": "stream",
          "name": "stdout",
          "text": [
            "Image size: (28, 28)\n"
          ]
        }
      ]
    },
    {
      "cell_type": "code",
      "source": [
        "#(c) How many images are there in the train data?\n",
        "train_images_count = len(train_images)\n",
        "print(\"Number of images in train data:\", train_images_count)"
      ],
      "metadata": {
        "colab": {
          "base_uri": "https://localhost:8080/"
        },
        "id": "bdT6DTL3uMEu",
        "outputId": "b36a9102-eff4-454c-e9a1-a12f4718eea8"
      },
      "execution_count": 46,
      "outputs": [
        {
          "output_type": "stream",
          "name": "stdout",
          "text": [
            "Number of images in train data: 60000\n"
          ]
        }
      ]
    },
    {
      "cell_type": "code",
      "source": [
        "#(d) State the number of images in test data.\n",
        "test_images_count = len(test_images)\n",
        "print(\"Number of images in test data:\", test_images_count)"
      ],
      "metadata": {
        "colab": {
          "base_uri": "https://localhost:8080/"
        },
        "id": "5Oh3Scl3vaOz",
        "outputId": "c489b3de-eab4-4a10-dc67-ebc210bb29d7"
      },
      "execution_count": 47,
      "outputs": [
        {
          "output_type": "stream",
          "name": "stdout",
          "text": [
            "Number of images in test data: 10000\n"
          ]
        }
      ]
    },
    {
      "cell_type": "code",
      "source": [
        "#(e) How many classes are there in the data? Write down those classes.\n",
        "num_classes = len(set(train_labels))\n",
        "class_labels = set(train_labels)\n",
        "print(\"Number of classes:\", num_classes)\n",
        "print(\"Class labels:\", class_labels)"
      ],
      "metadata": {
        "colab": {
          "base_uri": "https://localhost:8080/"
        },
        "id": "YacTPZL8v9sp",
        "outputId": "e97e460f-8708-4f6d-ed9a-c89c23b259f6"
      },
      "execution_count": 48,
      "outputs": [
        {
          "output_type": "stream",
          "name": "stdout",
          "text": [
            "Number of classes: 10\n",
            "Class labels: {0, 1, 2, 3, 4, 5, 6, 7, 8, 9}\n"
          ]
        }
      ]
    },
    {
      "cell_type": "markdown",
      "source": [
        "### 3. View some images in training data, for example draw the 11th image in your training data.\n"
      ],
      "metadata": {
        "id": "mHGnTddTyubg"
      }
    },
    {
      "cell_type": "code",
      "source": [
        "import matplotlib.pyplot as plt\n",
        "\n",
        "# Display the 11th image in the training data\n",
        "plt.imshow(train_images[10], cmap='gray')\n",
        "plt.show()"
      ],
      "metadata": {
        "colab": {
          "base_uri": "https://localhost:8080/",
          "height": 430
        },
        "id": "KyRtwdwbwOmx",
        "outputId": "99c924d6-a553-4967-98a7-75f5df94a7c9"
      },
      "execution_count": 49,
      "outputs": [
        {
          "output_type": "display_data",
          "data": {
            "text/plain": [
              "<Figure size 640x480 with 1 Axes>"
            ],
            "image/png": "[encoded data removed]"
          },
          "metadata": {}
        }
      ]
    },
    {
      "cell_type": "code",
      "source": [
        "plt.imshow(train_images[9999], cmap='gray')\n",
        "plt.show()"
      ],
      "metadata": {
        "colab": {
          "base_uri": "https://localhost:8080/",
          "height": 430
        },
        "id": "5-eDFBPLzc8P",
        "outputId": "b07f550c-4c19-4761-8f87-b9323fb7da3c"
      },
      "execution_count": 50,
      "outputs": [
        {
          "output_type": "display_data",
          "data": {
            "text/plain": [
              "<Figure size 640x480 with 1 Axes>"
            ],
            "image/png": "[encoded data removed]"
          },
          "metadata": {}
        }
      ]
    },
    {
      "cell_type": "code",
      "source": [
        "for i in range(1, 10):\n",
        "\n",
        "    # Create a 3x3 grid and place the\n",
        "    # image in ith position of grid\n",
        "\n",
        "    plt.subplot(3, 3, i)\n",
        "    # Insert ith image with the color map 'grap'\n",
        "    plt.imshow(train_images[i], cmap=plt.get_cmap('gray'))\n",
        "\n",
        "plt.show()"
      ],
      "metadata": {
        "colab": {
          "base_uri": "https://localhost:8080/",
          "height": 433
        },
        "id": "Fz1oZuv57u45",
        "outputId": "969fb701-da8c-45e7-8225-46a84422f67d"
      },
      "execution_count": 51,
      "outputs": [
        {
          "output_type": "display_data",
          "data": {
            "text/plain": [
              "<Figure size 640x480 with 9 Axes>"
            ],
            "image/png": "[encoded data removed]"
          },
          "metadata": {}
        }
      ]
    },
    {
      "cell_type": "markdown",
      "source": [
        "### 4. Normalize your data (train and test) between 0 and 1.\n",
        "#### Hint: This is a grayscale image has pixel values between 0 and 255.\n"
      ],
      "metadata": {
        "id": "KKxSE0TS2287"
      }
    },
    {
      "cell_type": "markdown",
      "source": [
        " we are normalizing the data by scaling the pixel values of the images between 0 and 1. \n",
        "\n",
        "In the case of the 'Fashion-MNIST' dataset, the pixel values of the grayscale images range from 0 to 255, where 0 represents black and 255 represents white. By dividing all the pixel values by 255, we effectively scale the values between 0 and 1.\n",
        "\n",
        "benefits:\n",
        "\n",
        "*   It makes the model less sensitive to the scale of the input features, ensuring that the learning process is not biased towards variables with larger values.\n",
        "\n",
        "*   It can speed up the training process, as smaller input values generally result in faster convergence.\n",
        "\n",
        "*   It can prevent numerical instability, particularly in neural networks where large input values can cause the activation functions to saturate."
      ],
      "metadata": {
        "id": "UPYpH3_LAEYn"
      }
    },
    {
      "cell_type": "code",
      "source": [
        "# Normalize the training and test data\n",
        "train_images = train_images / 255.0\n",
        "test_images = test_images / 255.0"
      ],
      "metadata": {
        "id": "InxE-sSb2rNb"
      },
      "execution_count": 52,
      "outputs": []
    },
    {
      "cell_type": "code",
      "source": [
        "plt.imshow(train_images[9999], cmap='gray')\n",
        "plt.show()"
      ],
      "metadata": {
        "colab": {
          "base_uri": "https://localhost:8080/",
          "height": 430
        },
        "id": "b-6sU__0AWEH",
        "outputId": "80120ac7-664c-40dd-d8ce-2e4ba69683f3"
      },
      "execution_count": 53,
      "outputs": [
        {
          "output_type": "display_data",
          "data": {
            "text/plain": [
              "<Figure size 640x480 with 1 Axes>"
            ],
            "image/png": "[encoded data removed]"
          },
          "metadata": {}
        }
      ]
    },
    {
      "cell_type": "code",
      "source": [
        "test_images"
      ],
      "metadata": {
        "colab": {
          "base_uri": "https://localhost:8080/"
        },
        "id": "5NYmYqWQ3sS9",
        "outputId": "16706493-1f0c-431d-d61c-e65a5ce92567"
      },
      "execution_count": 54,
      "outputs": [
        {
          "output_type": "execute_result",
          "data": {
            "text/plain": [
              "array([[[0., 0., 0., ..., 0., 0., 0.],\n",
              "        [0., 0., 0., ..., 0., 0., 0.],\n",
              "        [0., 0., 0., ..., 0., 0., 0.],\n",
              "        ...,\n",
              "        [0., 0., 0., ..., 0., 0., 0.],\n",
              "        [0., 0., 0., ..., 0., 0., 0.],\n",
              "        [0., 0., 0., ..., 0., 0., 0.]],\n",
              "\n",
              "       [[0., 0., 0., ..., 0., 0., 0.],\n",
              "        [0., 0., 0., ..., 0., 0., 0.],\n",
              "        [0., 0., 0., ..., 0., 0., 0.],\n",
              "        ...,\n",
              "        [0., 0., 0., ..., 0., 0., 0.],\n",
              "        [0., 0., 0., ..., 0., 0., 0.],\n",
              "        [0., 0., 0., ..., 0., 0., 0.]],\n",
              "\n",
              "       [[0., 0., 0., ..., 0., 0., 0.],\n",
              "        [0., 0., 0., ..., 0., 0., 0.],\n",
              "        [0., 0., 0., ..., 0., 0., 0.],\n",
              "        ...,\n",
              "        [0., 0., 0., ..., 0., 0., 0.],\n",
              "        [0., 0., 0., ..., 0., 0., 0.],\n",
              "        [0., 0., 0., ..., 0., 0., 0.]],\n",
              "\n",
              "       ...,\n",
              "\n",
              "       [[0., 0., 0., ..., 0., 0., 0.],\n",
              "        [0., 0., 0., ..., 0., 0., 0.],\n",
              "        [0., 0., 0., ..., 0., 0., 0.],\n",
              "        ...,\n",
              "        [0., 0., 0., ..., 0., 0., 0.],\n",
              "        [0., 0., 0., ..., 0., 0., 0.],\n",
              "        [0., 0., 0., ..., 0., 0., 0.]],\n",
              "\n",
              "       [[0., 0., 0., ..., 0., 0., 0.],\n",
              "        [0., 0., 0., ..., 0., 0., 0.],\n",
              "        [0., 0., 0., ..., 0., 0., 0.],\n",
              "        ...,\n",
              "        [0., 0., 0., ..., 0., 0., 0.],\n",
              "        [0., 0., 0., ..., 0., 0., 0.],\n",
              "        [0., 0., 0., ..., 0., 0., 0.]],\n",
              "\n",
              "       [[0., 0., 0., ..., 0., 0., 0.],\n",
              "        [0., 0., 0., ..., 0., 0., 0.],\n",
              "        [0., 0., 0., ..., 0., 0., 0.],\n",
              "        ...,\n",
              "        [0., 0., 0., ..., 0., 0., 0.],\n",
              "        [0., 0., 0., ..., 0., 0., 0.],\n",
              "        [0., 0., 0., ..., 0., 0., 0.]]])"
            ]
          },
          "metadata": {},
          "execution_count": 54
        }
      ]
    },
    {
      "cell_type": "markdown",
      "source": [
        "###5) Now divide the training data into two: Validation images (first 5000 images from the initial training data) and Training images (rest of the images in your initial training data).\n"
      ],
      "metadata": {
        "id": "qPIFmSrb5eeJ"
      }
    },
    {
      "cell_type": "code",
      "source": [
        "validation_images = train_images[:5000]\n",
        "validation_labels = train_labels[:5000]\n",
        "train_images = train_images[5000:]\n",
        "train_labels = train_labels[5000:]"
      ],
      "metadata": {
        "id": "zxHL0A6P3xkS"
      },
      "execution_count": 55,
      "outputs": []
    },
    {
      "cell_type": "markdown",
      "source": [
        "###6) Initialize the weight and bias parameters of your model."
      ],
      "metadata": {
        "id": "tVIXIn1D6t3J"
      }
    },
    {
      "cell_type": "code",
      "source": [
        "# we are building the neural network model with the specified characteristics using the Keras library.\n",
        "# The neural network model will consist of input, hidden, and output layers.\n",
        "# Each defined with specific configurations."
      ],
      "metadata": {
        "id": "CDLrvlpZCL0c"
      },
      "execution_count": 58,
      "outputs": []
    },
    {
      "cell_type": "markdown",
      "source": [
        "### 7) Now build the neural network model with the following characteristics:\n",
        "\n",
        "### (a) One Flatten layer as the input layer.\n",
        "### (b) Two dense relu layers as hidden layers.\n",
        "### (c) A dense softmax layer as the output layer.\n"
      ],
      "metadata": {
        "id": "n6s29Dkc--i_"
      }
    },
    {
      "cell_type": "code",
      "source": [
        "# Input Layer: The input layer is a Flatten layer. \n",
        "# It serves as the entry point of the neural network and is responsible for flattening the input data.\n",
        "# In the case of the 'Fashion-MNIST' dataset, the input data consists of 28x28 pixel images. \n",
        "# The Flatten layer transforms the 2D input data into a 1D array.\n",
        "\n",
        "# The Input Layer is the entry point of the neural network model and takes the input data. \n",
        "# It provides a way to feed the data into the neural network and has a specific shape or dimensions to match the input data.\n"
      ],
      "metadata": {
        "id": "TTTDu8igCwq9"
      },
      "execution_count": 61,
      "outputs": []
    },
    {
      "cell_type": "code",
      "source": [
        "# Hidden Layers: Hidden Layers are the layers between the Input Layer and the Output Layer. \n",
        "# They perform transformations on the input data through a series of weighted computations and activation functions, extracting relevant features and patterns from the data.\n"
      ],
      "metadata": {
        "id": "_TGbBxsfCvRj"
      },
      "execution_count": 62,
      "outputs": []
    },
    {
      "cell_type": "code",
      "source": [
        "# Output Layer: The Output Layer is the final layer of the neural network model that produces the predicted output or result. \n",
        "# Its configuration depends on the specific task, such as classification or regression, and often includes an activation function tailored to the task requirements."
      ],
      "metadata": {
        "id": "qkpdkRC8FyYR"
      },
      "execution_count": 63,
      "outputs": []
    },
    {
      "cell_type": "code",
      "source": [
        "from tensorflow.keras.models import Sequential\n",
        "from tensorflow.keras.layers import Flatten, Dense\n",
        "\n",
        "# Build the neural network model\n",
        "model = Sequential()\n",
        "model.add(Flatten(input_shape=(28, 28)))    # Input layer\n",
        "model.add(Dense(128, activation='relu'))    # First hidden layer\n",
        "model.add(Dense(64, activation='relu'))      # Second hidden layer\n",
        "model.add(Dense(10, activation='softmax'))    # Output layer"
      ],
      "metadata": {
        "id": "-bOEIrLy51ZL"
      },
      "execution_count": 64,
      "outputs": []
    },
    {
      "cell_type": "code",
      "source": [],
      "metadata": {
        "id": "kAobpoRzBV7c"
      },
      "execution_count": null,
      "outputs": []
    }
  ]
}