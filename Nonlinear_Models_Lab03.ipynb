{
  "nbformat": 4,
  "nbformat_minor": 0,
  "metadata": {
    "colab": {
      "provenance": [],
      "authorship_tag": "ABX9TyP3n8tU0Kf+mqeKaa4d/Yz/",
      "include_colab_link": true
    },
    "kernelspec": {
      "name": "python3",
      "display_name": "Python 3"
    },
    "language_info": {
      "name": "python"
    }
  },
  "cells": [
    {
      "cell_type": "markdown",
      "metadata": {
        "id": "view-in-github",
        "colab_type": "text"
      },
      "source": [
        "<a href=\"https://colab.research.google.com/github/nadunchanna98/machine-learning/blob/main/Nonlinear_Models_Lab03.ipynb\" target=\"_parent\"><img src=\"https://colab.research.google.com/assets/colab-badge.svg\" alt=\"Open In Colab\"/></a>"
      ]
    },
    {
      "cell_type": "markdown",
      "source": [
        "# 2019E094 LAB_03"
      ],
      "metadata": {
        "id": "02VR-qf6tHDG"
      }
    },
    {
      "cell_type": "markdown",
      "source": [
        "In this LAB\n",
        "\n",
        "*   Introducing Keras datasets.\n",
        "*   ANN for classification and regression.\n",
        "*   Evaluating the model.\n",
        "*   Introducing the validation dataset."
      ],
      "metadata": {
        "id": "QmAan-ar4zsr"
      }
    },
    {
      "cell_type": "markdown",
      "source": [
        "###### Keras is a deep learning library in Python which provides an interface for creating an artificial neural network. It is an open-sourced program. It is built on top of Tensorflow."
      ],
      "metadata": {
        "id": "oTxtVEpm4qYa"
      }
    },
    {
      "cell_type": "markdown",
      "source": [
        "### 1. Study the dataset ’Fashion-MNIST’ in Keras. Answer the following questions in relation to the above dataset."
      ],
      "metadata": {
        "id": "fM6NP6XbtQJ9"
      }
    },
    {
      "cell_type": "markdown",
      "source": [
        "### **(a) Find out whether it can be used for regression or classification.**\n",
        "\n",
        "  The 'Fashion-MNIST' dataset can be used for classification tasks.\n",
        "\n",
        "### **(b) What is the size of the images?**\n",
        "\n",
        "  The size of the images in the dataset is 28x28 pixels.\n",
        "\n",
        "\n",
        "### **(c) How many images are there in the train data?**\n",
        "\n",
        "  The number of images in the training data is 60,000.\n",
        "\n",
        "\n",
        "### **(d) State the number of images in test data.**\n",
        "\n",
        "  The number of images in the test data is 10,000.\n",
        "\n",
        "\n",
        "### **(e) How many classes are there in the data? Write down those classes.**\n",
        "\n",
        "  There are 10 classes in the data, represented by the following labels:\n",
        "\n",
        "\n",
        "*   T-shirt/top\n",
        "*   Trouser\n",
        "*   Pullover\n",
        "*   Dress\n",
        "*   Coat\n",
        "*   Sandal\n",
        "*   Shirt\n",
        "*   Sneaker\n",
        "*   Bag\n",
        "*   Ankle boot"
      ],
      "metadata": {
        "id": "EcSzKKCTzhtt"
      }
    },
    {
      "cell_type": "markdown",
      "source": [
        "### 2. Load that dataset directly from Keras using Python.\n"
      ],
      "metadata": {
        "id": "ZLKkyYJRy_PF"
      }
    },
    {
      "cell_type": "code",
      "execution_count": 98,
      "metadata": {
        "id": "MzO3hr54svq-"
      },
      "outputs": [],
      "source": [
        "import numpy as np\n",
        "import tensorflow as tf\n",
        "from tensorflow.keras.datasets import fashion_mnist\n",
        "\n",
        "# Load the Fashion-MNIST dataset\n",
        "(train_images, train_labels), (test_images, test_labels) = fashion_mnist.load_data()"
      ]
    },
    {
      "cell_type": "markdown",
      "source": [
        "## First step again do using python "
      ],
      "metadata": {
        "id": "8-UXzOjF2E09"
      }
    },
    {
      "cell_type": "code",
      "source": [
        "#(b) What is the size of the images?\n",
        "image_size = train_images[0].shape\n",
        "print(\"Image size:\", image_size)"
      ],
      "metadata": {
        "colab": {
          "base_uri": "https://localhost:8080/"
        },
        "id": "joAYsnMatRG3",
        "outputId": "a9d16dfd-3100-4464-b26c-63d832e54f2a"
      },
      "execution_count": 99,
      "outputs": [
        {
          "output_type": "stream",
          "name": "stdout",
          "text": [
            "Image size: (28, 28)\n"
          ]
        }
      ]
    },
    {
      "cell_type": "code",
      "source": [
        "#(c) How many images are there in the train data?\n",
        "train_images_count = len(train_images)\n",
        "print(\"Number of images in train data:\", train_images_count)"
      ],
      "metadata": {
        "colab": {
          "base_uri": "https://localhost:8080/"
        },
        "id": "bdT6DTL3uMEu",
        "outputId": "005d8374-7e17-4ded-c2bc-e175bdf6054a"
      },
      "execution_count": 100,
      "outputs": [
        {
          "output_type": "stream",
          "name": "stdout",
          "text": [
            "Number of images in train data: 60000\n"
          ]
        }
      ]
    },
    {
      "cell_type": "code",
      "source": [
        "#(d) State the number of images in test data.\n",
        "test_images_count = len(test_images)\n",
        "print(\"Number of images in test data:\", test_images_count)"
      ],
      "metadata": {
        "colab": {
          "base_uri": "https://localhost:8080/"
        },
        "id": "5Oh3Scl3vaOz",
        "outputId": "6a0dd514-b312-4a1e-a5f0-33e9a615a239"
      },
      "execution_count": 101,
      "outputs": [
        {
          "output_type": "stream",
          "name": "stdout",
          "text": [
            "Number of images in test data: 10000\n"
          ]
        }
      ]
    },
    {
      "cell_type": "code",
      "source": [
        "#(e) How many classes are there in the data? Write down those classes.\n",
        "num_classes = len(set(train_labels))\n",
        "class_labels = set(train_labels)\n",
        "print(\"Number of classes:\", num_classes)\n",
        "print(\"Class labels:\", class_labels)"
      ],
      "metadata": {
        "colab": {
          "base_uri": "https://localhost:8080/"
        },
        "id": "YacTPZL8v9sp",
        "outputId": "6a8aba31-d70a-4d8e-ba36-4c27ef03e878"
      },
      "execution_count": 102,
      "outputs": [
        {
          "output_type": "stream",
          "name": "stdout",
          "text": [
            "Number of classes: 10\n",
            "Class labels: {0, 1, 2, 3, 4, 5, 6, 7, 8, 9}\n"
          ]
        }
      ]
    },
    {
      "cell_type": "markdown",
      "source": [
        "### 3. View some images in training data, for example draw the 11th image in your training data.\n"
      ],
      "metadata": {
        "id": "mHGnTddTyubg"
      }
    },
    {
      "cell_type": "code",
      "source": [
        "import matplotlib.pyplot as plt\n",
        "\n",
        "# Display the 11th image in the training data\n",
        "plt.figure(figsize=(2,2))\n",
        "plt.imshow(train_images[10], cmap='gray')\n",
        "plt.show()"
      ],
      "metadata": {
        "colab": {
          "base_uri": "https://localhost:8080/",
          "height": 217
        },
        "id": "KyRtwdwbwOmx",
        "outputId": "199103c4-8361-41d3-c4e7-1267f3fe4763"
      },
      "execution_count": 103,
      "outputs": [
        {
          "output_type": "display_data",
          "data": {
            "text/plain": [
              "<Figure size 200x200 with 1 Axes>"
            ],
            "image/png": "[encoded data removed]"
          },
          "metadata": {}
        }
      ]
    },
    {
      "cell_type": "code",
      "source": [
        "plt.figure(figsize=(2,2))\n",
        "plt.imshow(train_images[9999], cmap='gray')\n",
        "plt.show()"
      ],
      "metadata": {
        "colab": {
          "base_uri": "https://localhost:8080/",
          "height": 217
        },
        "id": "5-eDFBPLzc8P",
        "outputId": "3576478f-a0b6-4ee1-edf3-d8ea0d7f9b5e"
      },
      "execution_count": 104,
      "outputs": [
        {
          "output_type": "display_data",
          "data": {
            "text/plain": [
              "<Figure size 200x200 with 1 Axes>"
            ],
            "image/png": "[encoded data removed]"
          },
          "metadata": {}
        }
      ]
    },
    {
      "cell_type": "code",
      "source": [
        "for i in range(1, 10):\n",
        "\n",
        "    # Create a 3x3 grid and place the\n",
        "    # image in ith position of grid\n",
        "\n",
        "    plt.subplot(3, 3, i)\n",
        "    # Insert ith image with the color map 'grap'\n",
        "    plt.imshow(train_images[i], cmap=plt.get_cmap('gray'))\n",
        "\n",
        "plt.show()"
      ],
      "metadata": {
        "colab": {
          "base_uri": "https://localhost:8080/",
          "height": 433
        },
        "id": "Fz1oZuv57u45",
        "outputId": "f1a941df-595e-47cb-b5d7-36dbc4087a85"
      },
      "execution_count": 105,
      "outputs": [
        {
          "output_type": "display_data",
          "data": {
            "text/plain": [
              "<Figure size 640x480 with 9 Axes>"
            ],
            "image/png": "[encoded data removed]"
          },
          "metadata": {}
        }
      ]
    },
    {
      "cell_type": "markdown",
      "source": [
        "### 4. Normalize your data (train and test) between 0 and 1.\n",
        "#### Hint: This is a grayscale image has pixel values between 0 and 255.\n"
      ],
      "metadata": {
        "id": "KKxSE0TS2287"
      }
    },
    {
      "cell_type": "markdown",
      "source": [
        " we are normalizing the data by scaling the pixel values of the images between 0 and 1. \n",
        "\n",
        "In the case of the 'Fashion-MNIST' dataset, the pixel values of the grayscale images range from 0 to 255, where 0 represents black and 255 represents white. By dividing all the pixel values by 255, we effectively scale the values between 0 and 1.\n",
        "\n",
        "benefits:\n",
        "\n",
        "*   It makes the model less sensitive to the scale of the input features, ensuring that the learning process is not biased towards variables with larger values.\n",
        "\n",
        "*   It can speed up the training process, as smaller input values generally result in faster convergence.\n",
        "\n",
        "*   It can prevent numerical instability, particularly in neural networks where large input values can cause the activation functions to saturate."
      ],
      "metadata": {
        "id": "UPYpH3_LAEYn"
      }
    },
    {
      "cell_type": "code",
      "source": [
        "# Normalize the training and test data\n",
        "train_images = train_images / 255.0\n",
        "test_images = test_images / 255.0"
      ],
      "metadata": {
        "id": "InxE-sSb2rNb"
      },
      "execution_count": 106,
      "outputs": []
    },
    {
      "cell_type": "code",
      "source": [
        "plt.imshow(train_images[9999], cmap='gray')\n",
        "plt.show()"
      ],
      "metadata": {
        "colab": {
          "base_uri": "https://localhost:8080/",
          "height": 430
        },
        "id": "b-6sU__0AWEH",
        "outputId": "22624710-9279-4222-ab0b-f45db6315164"
      },
      "execution_count": 107,
      "outputs": [
        {
          "output_type": "display_data",
          "data": {
            "text/plain": [
              "<Figure size 640x480 with 1 Axes>"
            ],
            "image/png": "[encoded data removed]"
          },
          "metadata": {}
        }
      ]
    },
    {
      "cell_type": "code",
      "source": [
        "test_images"
      ],
      "metadata": {
        "colab": {
          "base_uri": "https://localhost:8080/"
        },
        "id": "5NYmYqWQ3sS9",
        "outputId": "4af3c00f-256d-4270-d37f-3342e801e9cb"
      },
      "execution_count": 108,
      "outputs": [
        {
          "output_type": "execute_result",
          "data": {
            "text/plain": [
              "array([[[0., 0., 0., ..., 0., 0., 0.],\n",
              "        [0., 0., 0., ..., 0., 0., 0.],\n",
              "        [0., 0., 0., ..., 0., 0., 0.],\n",
              "        ...,\n",
              "        [0., 0., 0., ..., 0., 0., 0.],\n",
              "        [0., 0., 0., ..., 0., 0., 0.],\n",
              "        [0., 0., 0., ..., 0., 0., 0.]],\n",
              "\n",
              "       [[0., 0., 0., ..., 0., 0., 0.],\n",
              "        [0., 0., 0., ..., 0., 0., 0.],\n",
              "        [0., 0., 0., ..., 0., 0., 0.],\n",
              "        ...,\n",
              "        [0., 0., 0., ..., 0., 0., 0.],\n",
              "        [0., 0., 0., ..., 0., 0., 0.],\n",
              "        [0., 0., 0., ..., 0., 0., 0.]],\n",
              "\n",
              "       [[0., 0., 0., ..., 0., 0., 0.],\n",
              "        [0., 0., 0., ..., 0., 0., 0.],\n",
              "        [0., 0., 0., ..., 0., 0., 0.],\n",
              "        ...,\n",
              "        [0., 0., 0., ..., 0., 0., 0.],\n",
              "        [0., 0., 0., ..., 0., 0., 0.],\n",
              "        [0., 0., 0., ..., 0., 0., 0.]],\n",
              "\n",
              "       ...,\n",
              "\n",
              "       [[0., 0., 0., ..., 0., 0., 0.],\n",
              "        [0., 0., 0., ..., 0., 0., 0.],\n",
              "        [0., 0., 0., ..., 0., 0., 0.],\n",
              "        ...,\n",
              "        [0., 0., 0., ..., 0., 0., 0.],\n",
              "        [0., 0., 0., ..., 0., 0., 0.],\n",
              "        [0., 0., 0., ..., 0., 0., 0.]],\n",
              "\n",
              "       [[0., 0., 0., ..., 0., 0., 0.],\n",
              "        [0., 0., 0., ..., 0., 0., 0.],\n",
              "        [0., 0., 0., ..., 0., 0., 0.],\n",
              "        ...,\n",
              "        [0., 0., 0., ..., 0., 0., 0.],\n",
              "        [0., 0., 0., ..., 0., 0., 0.],\n",
              "        [0., 0., 0., ..., 0., 0., 0.]],\n",
              "\n",
              "       [[0., 0., 0., ..., 0., 0., 0.],\n",
              "        [0., 0., 0., ..., 0., 0., 0.],\n",
              "        [0., 0., 0., ..., 0., 0., 0.],\n",
              "        ...,\n",
              "        [0., 0., 0., ..., 0., 0., 0.],\n",
              "        [0., 0., 0., ..., 0., 0., 0.],\n",
              "        [0., 0., 0., ..., 0., 0., 0.]]])"
            ]
          },
          "metadata": {},
          "execution_count": 108
        }
      ]
    },
    {
      "cell_type": "markdown",
      "source": [
        "###5) Now divide the training data into two: Validation images (first 5000 images from the initial training data) and Training images (rest of the images in your initial training data).\n"
      ],
      "metadata": {
        "id": "qPIFmSrb5eeJ"
      }
    },
    {
      "cell_type": "code",
      "source": [
        "validation_images = train_images[:5000]\n",
        "validation_labels = train_labels[:5000]\n",
        "train_images = train_images[5000:]\n",
        "train_labels = train_labels[5000:]"
      ],
      "metadata": {
        "id": "zxHL0A6P3xkS"
      },
      "execution_count": 109,
      "outputs": []
    },
    {
      "cell_type": "markdown",
      "source": [
        "###6) Initialize the weight and bias parameters of your model."
      ],
      "metadata": {
        "id": "tVIXIn1D6t3J"
      }
    },
    {
      "cell_type": "code",
      "source": [
        "# we are building the neural network model with the specified characteristics using the Keras library.\n",
        "# The neural network model will consist of input, hidden, and output layers.\n",
        "# Each defined with specific configurations."
      ],
      "metadata": {
        "id": "CDLrvlpZCL0c"
      },
      "execution_count": 110,
      "outputs": []
    },
    {
      "cell_type": "markdown",
      "source": [
        "### 7) Now build the neural network model with the following characteristics:\n",
        "\n",
        "### (a) One Flatten layer as the input layer.\n",
        "### (b) Two dense relu layers as hidden layers.\n",
        "### (c) A dense softmax layer as the output layer.\n"
      ],
      "metadata": {
        "id": "n6s29Dkc--i_"
      }
    },
    {
      "cell_type": "code",
      "source": [
        "# The Input Layer is the entry point of the neural network model and takes the input data. \n",
        "# It provides a way to feed the data into the neural network and has a specific shape or dimensions to match the input data.\n"
      ],
      "metadata": {
        "id": "TTTDu8igCwq9"
      },
      "execution_count": 111,
      "outputs": []
    },
    {
      "cell_type": "code",
      "source": [
        "# Hidden Layers: Hidden Layers are the layers between the Input Layer and the Output Layer. \n",
        "# They perform transformations on the input data through a series of weighted computations and activation functions, extracting relevant features and patterns from the data.\n"
      ],
      "metadata": {
        "id": "_TGbBxsfCvRj"
      },
      "execution_count": 112,
      "outputs": []
    },
    {
      "cell_type": "code",
      "source": [
        "# Output Layer: The Output Layer is the final layer of the neural network model that produces the predicted output or result. \n",
        "# Its configuration depends on the specific task, such as classification or regression, and often includes an activation function tailored to the task requirements."
      ],
      "metadata": {
        "id": "qkpdkRC8FyYR"
      },
      "execution_count": 113,
      "outputs": []
    },
    {
      "cell_type": "code",
      "source": [
        "from tensorflow.keras.models import Sequential\n",
        "from tensorflow.keras.layers import Flatten, Dense\n",
        "\n",
        "# Build the neural network model\n",
        "model = Sequential()\n",
        "model.add(Flatten(input_shape=(28, 28)))    # Input layer\n",
        "model.add(Dense(128, activation='relu'))    # First hidden layer\n",
        "model.add(Dense(64, activation='relu'))      # Second hidden layer\n",
        "model.add(Dense(10, activation='softmax'))    # Output layer"
      ],
      "metadata": {
        "id": "-bOEIrLy51ZL"
      },
      "execution_count": 114,
      "outputs": []
    },
    {
      "cell_type": "markdown",
      "source": [
        "### 8. Answer the following questions.\n",
        "\n",
        "#### **(a) What is the use of Flatten layer?**\n",
        "\n",
        " The Flatten layer is used to flatten the input images into a 1D array. It converts the 2D image data into a 1D vector, which can be fed into the subsequent fully connected layers.\n",
        "\n",
        "#### **(b) Generally, softmax activation function is used in the output layer of the classification networks. Why?**\n",
        "\n",
        "The softmax activation function is commonly used in the output layer of classification networks because it produces a probability distribution over the classes. It ensures that the sum of all class probabilities is 1, allowing us to interpret the output as the predicted probability for each class.\n",
        "\n",
        "\n",
        "\n"
      ],
      "metadata": {
        "id": "RFHL2P_iGqcG"
      }
    },
    {
      "cell_type": "markdown",
      "source": [
        "### 9. Print the summary of the network.\n"
      ],
      "metadata": {
        "id": "qPXp4t3nHxlo"
      }
    },
    {
      "cell_type": "code",
      "source": [
        "model.summary()"
      ],
      "metadata": {
        "colab": {
          "base_uri": "https://localhost:8080/"
        },
        "id": "kAobpoRzBV7c",
        "outputId": "c8b786fa-435e-46cb-b92e-5eeeec06f4dd"
      },
      "execution_count": 115,
      "outputs": [
        {
          "output_type": "stream",
          "name": "stdout",
          "text": [
            "Model: \"sequential_3\"\n",
            "_________________________________________________________________\n",
            " Layer (type)                Output Shape              Param #   \n",
            "=================================================================\n",
            " flatten_3 (Flatten)         (None, 784)               0         \n",
            "                                                                 \n",
            " dense_9 (Dense)             (None, 128)               100480    \n",
            "                                                                 \n",
            " dense_10 (Dense)            (None, 64)                8256      \n",
            "                                                                 \n",
            " dense_11 (Dense)            (None, 10)                650       \n",
            "                                                                 \n",
            "=================================================================\n",
            "Total params: 109,386\n",
            "Trainable params: 109,386\n",
            "Non-trainable params: 0\n",
            "_________________________________________________________________\n"
          ]
        }
      ]
    },
    {
      "cell_type": "markdown",
      "source": [
        "### 10. Now compile the model with the desired loss function, optimizer and metrics.\n"
      ],
      "metadata": {
        "id": "vyPI_IBqIAPP"
      }
    },
    {
      "cell_type": "code",
      "source": [
        "model.compile(loss='sparse_categorical_crossentropy', optimizer='adam', metrics=['accuracy'])"
      ],
      "metadata": {
        "id": "Oqg4rzeaH2v0"
      },
      "execution_count": 116,
      "outputs": []
    },
    {
      "cell_type": "markdown",
      "source": [
        "### 11. Now train your model on the training data and validate your model.\n"
      ],
      "metadata": {
        "id": "tOsOozpLINaQ"
      }
    },
    {
      "cell_type": "code",
      "source": [
        "# Train and validate the model\n",
        "history = model.fit(train_images, train_labels, validation_data=(validation_images, validation_labels), epochs=10, batch_size=32)"
      ],
      "metadata": {
        "colab": {
          "base_uri": "https://localhost:8080/"
        },
        "id": "o3hRQVJ5IG_J",
        "outputId": "e82d372e-a2fa-4292-fe5a-43d438b5ade0"
      },
      "execution_count": 117,
      "outputs": [
        {
          "output_type": "stream",
          "name": "stdout",
          "text": [
            "Epoch 1/10\n",
            "1719/1719 [==============================] - 9s 5ms/step - loss: 0.5085 - accuracy: 0.8180 - val_loss: 0.3865 - val_accuracy: 0.8630\n",
            "Epoch 2/10\n",
            "1719/1719 [==============================] - 8s 4ms/step - loss: 0.3725 - accuracy: 0.8625 - val_loss: 0.3438 - val_accuracy: 0.8706\n",
            "Epoch 3/10\n",
            "1719/1719 [==============================] - 9s 5ms/step - loss: 0.3352 - accuracy: 0.8771 - val_loss: 0.3331 - val_accuracy: 0.8798\n",
            "Epoch 4/10\n",
            "1719/1719 [==============================] - 9s 5ms/step - loss: 0.3118 - accuracy: 0.8855 - val_loss: 0.3454 - val_accuracy: 0.8744\n",
            "Epoch 5/10\n",
            "1719/1719 [==============================] - 8s 5ms/step - loss: 0.2929 - accuracy: 0.8921 - val_loss: 0.3220 - val_accuracy: 0.8838\n",
            "Epoch 6/10\n",
            "1719/1719 [==============================] - 9s 5ms/step - loss: 0.2800 - accuracy: 0.8964 - val_loss: 0.3204 - val_accuracy: 0.8840\n",
            "Epoch 7/10\n",
            "1719/1719 [==============================] - 9s 5ms/step - loss: 0.2693 - accuracy: 0.8998 - val_loss: 0.3306 - val_accuracy: 0.8794\n",
            "Epoch 8/10\n",
            "1719/1719 [==============================] - 7s 4ms/step - loss: 0.2569 - accuracy: 0.9035 - val_loss: 0.3196 - val_accuracy: 0.8874\n",
            "Epoch 9/10\n",
            "1719/1719 [==============================] - 8s 5ms/step - loss: 0.2478 - accuracy: 0.9056 - val_loss: 0.3272 - val_accuracy: 0.8834\n",
            "Epoch 10/10\n",
            "1719/1719 [==============================] - 8s 5ms/step - loss: 0.2371 - accuracy: 0.9102 - val_loss: 0.3136 - val_accuracy: 0.8888\n"
          ]
        }
      ]
    },
    {
      "cell_type": "markdown",
      "source": [
        "### 12. Evaluate your model on the test data. What is the accuracy of your model on the test data?"
      ],
      "metadata": {
        "id": "PQI2Z-lvJGK-"
      }
    },
    {
      "cell_type": "code",
      "source": [
        "# Evaluate the model on the test data\n",
        "test_loss, test_accuracy = model.evaluate(test_images, test_labels)\n",
        "\n",
        "print(f\"Test Loss: {test_loss}\")\n",
        "print(f\"Test Accuracy: {test_accuracy}\")"
      ],
      "metadata": {
        "colab": {
          "base_uri": "https://localhost:8080/"
        },
        "id": "ORPy__luIdPi",
        "outputId": "37d96871-9869-4526-e2e8-ba7e8400f352"
      },
      "execution_count": 118,
      "outputs": [
        {
          "output_type": "stream",
          "name": "stdout",
          "text": [
            "313/313 [==============================] - 1s 3ms/step - loss: 0.3365 - accuracy: 0.8808\n",
            "Test Loss: 0.3365100622177124\n",
            "Test Accuracy: 0.8808000087738037\n"
          ]
        }
      ]
    },
    {
      "cell_type": "markdown",
      "source": [
        "### 13. Now take the first five samples of test data. Print the actual target classes and the predicted target classes of those five samples"
      ],
      "metadata": {
        "id": "UGtJqL7yJuM9"
      }
    },
    {
      "cell_type": "code",
      "source": [
        "# Predict target classes for the first five samples of test data\n",
        "predictions = model.predict(test_images[:5])\n",
        "predicted_classes = [ np.argmax(prediction) for prediction in predictions]\n",
        "\n",
        "# Print actual target classes and predicted target classes\n",
        "for i in range(5):\n",
        "    print(f\"Actual: {test_labels[i]}, Predicted: {predicted_classes[i]}\")\n"
      ],
      "metadata": {
        "colab": {
          "base_uri": "https://localhost:8080/"
        },
        "id": "1jN131P5JkMd",
        "outputId": "b829d56d-741a-461a-c712-a3f77d789ba1"
      },
      "execution_count": 119,
      "outputs": [
        {
          "output_type": "stream",
          "name": "stdout",
          "text": [
            "1/1 [==============================] - 0s 71ms/step\n",
            "Actual: 9, Predicted: 9\n",
            "Actual: 2, Predicted: 2\n",
            "Actual: 1, Predicted: 1\n",
            "Actual: 1, Predicted: 1\n",
            "Actual: 6, Predicted: 6\n"
          ]
        }
      ]
    },
    {
      "cell_type": "code",
      "source": [
        "label_name= ['T-shirt/top','Trouser','Pullover','Dress','Coat','Sandal','Shirt','Sneaker','Bag','Ankle','boot']"
      ],
      "metadata": {
        "id": "mO4RhbeoPrXm"
      },
      "execution_count": 120,
      "outputs": []
    },
    {
      "cell_type": "code",
      "source": [
        "# Print actual target classes and predicted target classes\n",
        "for i in range(5):\n",
        "    print(f\"Actual: {test_labels[i]}, Predicted: {label_name[i]}\")"
      ],
      "metadata": {
        "colab": {
          "base_uri": "https://localhost:8080/"
        },
        "id": "jhl6DFUnQdWv",
        "outputId": "b36d7747-6251-46db-c458-09ab31326f0c"
      },
      "execution_count": 121,
      "outputs": [
        {
          "output_type": "stream",
          "name": "stdout",
          "text": [
            "Actual: 9, Predicted: T-shirt/top\n",
            "Actual: 2, Predicted: Trouser\n",
            "Actual: 1, Predicted: Pullover\n",
            "Actual: 1, Predicted: Dress\n",
            "Actual: 6, Predicted: Coat\n"
          ]
        }
      ]
    },
    {
      "cell_type": "code",
      "source": [],
      "metadata": {
        "id": "sw6GmTlHQ-v6"
      },
      "execution_count": 121,
      "outputs": []
    }
  ]
}