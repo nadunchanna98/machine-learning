{
  "cells": [
    {
      "cell_type": "markdown",
      "metadata": {
        "id": "view-in-github",
        "colab_type": "text"
      },
      "source": [
        "<a href=\"https://colab.research.google.com/github/nadunchanna98/machine-learning/blob/main/Sliding_Window_Standardizing.ipynb\" target=\"_parent\"><img src=\"https://colab.research.google.com/assets/colab-badge.svg\" alt=\"Open In Colab\"/></a>"
      ]
    },
    {
      "cell_type": "code",
      "execution_count": null,
      "id": "2037e2a8",
      "metadata": {
        "id": "2037e2a8"
      },
      "outputs": [],
      "source": [
        "import numpy as np\n",
        "import pandas as pd"
      ]
    },
    {
      "cell_type": "markdown",
      "id": "6c0a221f",
      "metadata": {
        "id": "6c0a221f"
      },
      "source": [
        "# Sliding Window"
      ]
    },
    {
      "cell_type": "code",
      "execution_count": null,
      "id": "ef9fe5d6",
      "metadata": {
        "id": "ef9fe5d6",
        "outputId": "6cb80b13-385d-4f5d-df3f-fcfdbfdbccdd"
      },
      "outputs": [
        {
          "data": {
            "text/plain": [
              "array([2, 3, 8, 7, 5])"
            ]
          },
          "execution_count": 3,
          "metadata": {},
          "output_type": "execute_result"
        }
      ],
      "source": [
        "a=np.array([2,3,8,7,5])\n",
        "a"
      ]
    },
    {
      "cell_type": "code",
      "execution_count": null,
      "id": "6687c90f",
      "metadata": {
        "id": "6687c90f",
        "outputId": "acde14e7-5635-4572-d838-d8df7a72d730"
      },
      "outputs": [
        {
          "data": {
            "text/plain": [
              "array([5, 2, 3, 8, 7])"
            ]
          },
          "execution_count": 4,
          "metadata": {},
          "output_type": "execute_result"
        }
      ],
      "source": [
        "np.roll(a,1)"
      ]
    },
    {
      "cell_type": "code",
      "execution_count": null,
      "id": "7bfec1fa",
      "metadata": {
        "id": "7bfec1fa",
        "outputId": "924ec360-e8e8-4df9-e921-627f5897ba8e"
      },
      "outputs": [
        {
          "data": {
            "text/plain": [
              "array([7, 5, 2, 3, 8])"
            ]
          },
          "execution_count": 4,
          "metadata": {},
          "output_type": "execute_result"
        }
      ],
      "source": [
        "np.roll(a,-3)"
      ]
    },
    {
      "cell_type": "code",
      "execution_count": null,
      "id": "27a53546",
      "metadata": {
        "id": "27a53546",
        "outputId": "d82df75c-1fa1-410a-98b8-011040e11dc1"
      },
      "outputs": [
        {
          "data": {
            "text/html": [
              "<div>\n",
              "<style scoped>\n",
              "    .dataframe tbody tr th:only-of-type {\n",
              "        vertical-align: middle;\n",
              "    }\n",
              "\n",
              "    .dataframe tbody tr th {\n",
              "        vertical-align: top;\n",
              "    }\n",
              "\n",
              "    .dataframe thead th {\n",
              "        text-align: right;\n",
              "    }\n",
              "</style>\n",
              "<table border=\"1\" class=\"dataframe\">\n",
              "  <thead>\n",
              "    <tr style=\"text-align: right;\">\n",
              "      <th></th>\n",
              "      <th>Date</th>\n",
              "      <th>Price</th>\n",
              "    </tr>\n",
              "  </thead>\n",
              "  <tbody>\n",
              "    <tr>\n",
              "      <th>0</th>\n",
              "      <td>2021-01-01</td>\n",
              "      <td>100</td>\n",
              "    </tr>\n",
              "    <tr>\n",
              "      <th>1</th>\n",
              "      <td>2021-01-02</td>\n",
              "      <td>200</td>\n",
              "    </tr>\n",
              "    <tr>\n",
              "      <th>2</th>\n",
              "      <td>2021-01-03</td>\n",
              "      <td>150</td>\n",
              "    </tr>\n",
              "    <tr>\n",
              "      <th>3</th>\n",
              "      <td>2021-01-04</td>\n",
              "      <td>250</td>\n",
              "    </tr>\n",
              "    <tr>\n",
              "      <th>4</th>\n",
              "      <td>2021-01-05</td>\n",
              "      <td>280</td>\n",
              "    </tr>\n",
              "    <tr>\n",
              "      <th>5</th>\n",
              "      <td>2021-01-06</td>\n",
              "      <td>300</td>\n",
              "    </tr>\n",
              "    <tr>\n",
              "      <th>6</th>\n",
              "      <td>2021-01-07</td>\n",
              "      <td>170</td>\n",
              "    </tr>\n",
              "  </tbody>\n",
              "</table>\n",
              "</div>"
            ],
            "text/plain": [
              "         Date  Price\n",
              "0  2021-01-01    100\n",
              "1  2021-01-02    200\n",
              "2  2021-01-03    150\n",
              "3  2021-01-04    250\n",
              "4  2021-01-05    280\n",
              "5  2021-01-06    300\n",
              "6  2021-01-07    170"
            ]
          },
          "execution_count": 24,
          "metadata": {},
          "output_type": "execute_result"
        }
      ],
      "source": [
        "data = pd.DataFrame({\"Date\":[\"2021-01-01\",\"2021-01-02\",\"2021-01-03\",\"2021-01-04\",\"2021-01-05\",\"2021-01-06\",\"2021-01-07\"],\"Price\":[100,200,150,250,280,300,170]})\n",
        "data\n"
      ]
    },
    {
      "cell_type": "code",
      "execution_count": null,
      "id": "e2d4f216",
      "metadata": {
        "id": "e2d4f216",
        "outputId": "953a8f4d-8086-4fa2-a13e-fa86e0d8b2d5"
      },
      "outputs": [
        {
          "data": {
            "text/plain": [
              "array([100, 200, 150, 250, 280, 300, 170], dtype=int64)"
            ]
          },
          "execution_count": 12,
          "metadata": {},
          "output_type": "execute_result"
        }
      ],
      "source": [
        "data[\"Price\"].values\n"
      ]
    },
    {
      "cell_type": "code",
      "execution_count": null,
      "id": "558451e9",
      "metadata": {
        "id": "558451e9",
        "outputId": "b7a1fa35-72a5-4198-ee14-7d9aa103e29a"
      },
      "outputs": [
        {
          "data": {
            "text/plain": [
              "array([200, 150, 250, 280, 300, 170, 100], dtype=int64)"
            ]
          },
          "execution_count": 14,
          "metadata": {},
          "output_type": "execute_result"
        }
      ],
      "source": [
        "new_data=np.roll(data[\"Price\"].values,-1)\n",
        "new_data"
      ]
    },
    {
      "cell_type": "code",
      "execution_count": null,
      "id": "70b5296b",
      "metadata": {
        "id": "70b5296b",
        "outputId": "4a8ef511-adee-4e3b-cafb-7a3a6480f090"
      },
      "outputs": [
        {
          "data": {
            "text/html": [
              "<div>\n",
              "<style scoped>\n",
              "    .dataframe tbody tr th:only-of-type {\n",
              "        vertical-align: middle;\n",
              "    }\n",
              "\n",
              "    .dataframe tbody tr th {\n",
              "        vertical-align: top;\n",
              "    }\n",
              "\n",
              "    .dataframe thead th {\n",
              "        text-align: right;\n",
              "    }\n",
              "</style>\n",
              "<table border=\"1\" class=\"dataframe\">\n",
              "  <thead>\n",
              "    <tr style=\"text-align: right;\">\n",
              "      <th></th>\n",
              "      <th>Date</th>\n",
              "      <th>Price</th>\n",
              "      <th>Next Day Price</th>\n",
              "    </tr>\n",
              "  </thead>\n",
              "  <tbody>\n",
              "    <tr>\n",
              "      <th>0</th>\n",
              "      <td>2021-01-01</td>\n",
              "      <td>100</td>\n",
              "      <td>200</td>\n",
              "    </tr>\n",
              "    <tr>\n",
              "      <th>1</th>\n",
              "      <td>2021-01-02</td>\n",
              "      <td>200</td>\n",
              "      <td>150</td>\n",
              "    </tr>\n",
              "    <tr>\n",
              "      <th>2</th>\n",
              "      <td>2021-01-03</td>\n",
              "      <td>150</td>\n",
              "      <td>250</td>\n",
              "    </tr>\n",
              "    <tr>\n",
              "      <th>3</th>\n",
              "      <td>2021-01-04</td>\n",
              "      <td>250</td>\n",
              "      <td>280</td>\n",
              "    </tr>\n",
              "    <tr>\n",
              "      <th>4</th>\n",
              "      <td>2021-01-05</td>\n",
              "      <td>280</td>\n",
              "      <td>300</td>\n",
              "    </tr>\n",
              "    <tr>\n",
              "      <th>5</th>\n",
              "      <td>2021-01-06</td>\n",
              "      <td>300</td>\n",
              "      <td>170</td>\n",
              "    </tr>\n",
              "    <tr>\n",
              "      <th>6</th>\n",
              "      <td>2021-01-07</td>\n",
              "      <td>170</td>\n",
              "      <td>100</td>\n",
              "    </tr>\n",
              "  </tbody>\n",
              "</table>\n",
              "</div>"
            ],
            "text/plain": [
              "         Date  Price  Next Day Price\n",
              "0  2021-01-01    100             200\n",
              "1  2021-01-02    200             150\n",
              "2  2021-01-03    150             250\n",
              "3  2021-01-04    250             280\n",
              "4  2021-01-05    280             300\n",
              "5  2021-01-06    300             170\n",
              "6  2021-01-07    170             100"
            ]
          },
          "execution_count": 25,
          "metadata": {},
          "output_type": "execute_result"
        }
      ],
      "source": [
        "data[\"Next Day Price\"]=new_data\n",
        "data"
      ]
    },
    {
      "cell_type": "code",
      "execution_count": null,
      "id": "624575a3",
      "metadata": {
        "id": "624575a3",
        "outputId": "212264e1-bf06-4ffe-a5e5-51c7efaea285"
      },
      "outputs": [
        {
          "data": {
            "text/html": [
              "<div>\n",
              "<style scoped>\n",
              "    .dataframe tbody tr th:only-of-type {\n",
              "        vertical-align: middle;\n",
              "    }\n",
              "\n",
              "    .dataframe tbody tr th {\n",
              "        vertical-align: top;\n",
              "    }\n",
              "\n",
              "    .dataframe thead th {\n",
              "        text-align: right;\n",
              "    }\n",
              "</style>\n",
              "<table border=\"1\" class=\"dataframe\">\n",
              "  <thead>\n",
              "    <tr style=\"text-align: right;\">\n",
              "      <th></th>\n",
              "      <th>Price</th>\n",
              "      <th>Next Day Price</th>\n",
              "    </tr>\n",
              "  </thead>\n",
              "  <tbody>\n",
              "    <tr>\n",
              "      <th>0</th>\n",
              "      <td>100</td>\n",
              "      <td>200</td>\n",
              "    </tr>\n",
              "    <tr>\n",
              "      <th>1</th>\n",
              "      <td>200</td>\n",
              "      <td>150</td>\n",
              "    </tr>\n",
              "    <tr>\n",
              "      <th>2</th>\n",
              "      <td>150</td>\n",
              "      <td>250</td>\n",
              "    </tr>\n",
              "    <tr>\n",
              "      <th>3</th>\n",
              "      <td>250</td>\n",
              "      <td>280</td>\n",
              "    </tr>\n",
              "    <tr>\n",
              "      <th>4</th>\n",
              "      <td>280</td>\n",
              "      <td>300</td>\n",
              "    </tr>\n",
              "    <tr>\n",
              "      <th>5</th>\n",
              "      <td>300</td>\n",
              "      <td>170</td>\n",
              "    </tr>\n",
              "  </tbody>\n",
              "</table>\n",
              "</div>"
            ],
            "text/plain": [
              "   Price  Next Day Price\n",
              "0    100             200\n",
              "1    200             150\n",
              "2    150             250\n",
              "3    250             280\n",
              "4    280             300\n",
              "5    300             170"
            ]
          },
          "execution_count": 27,
          "metadata": {},
          "output_type": "execute_result"
        }
      ],
      "source": [
        "data.drop(\"Date\",axis=1,inplace=True)\n",
        "data.drop(6,inplace=True) #after sliding row 6 is not meaning full\n",
        "data"
      ]
    },
    {
      "cell_type": "markdown",
      "id": "afe8c7d6",
      "metadata": {
        "id": "afe8c7d6"
      },
      "source": [
        "# Standardizing"
      ]
    },
    {
      "cell_type": "code",
      "execution_count": null,
      "id": "0cf07918",
      "metadata": {
        "id": "0cf07918",
        "outputId": "d78884e4-bee0-4692-ab0e-c23ca3db2306"
      },
      "outputs": [
        {
          "data": {
            "text/html": [
              "<div>\n",
              "<style scoped>\n",
              "    .dataframe tbody tr th:only-of-type {\n",
              "        vertical-align: middle;\n",
              "    }\n",
              "\n",
              "    .dataframe tbody tr th {\n",
              "        vertical-align: top;\n",
              "    }\n",
              "\n",
              "    .dataframe thead th {\n",
              "        text-align: right;\n",
              "    }\n",
              "</style>\n",
              "<table border=\"1\" class=\"dataframe\">\n",
              "  <thead>\n",
              "    <tr style=\"text-align: right;\">\n",
              "      <th></th>\n",
              "      <th>Height</th>\n",
              "      <th>width</th>\n",
              "    </tr>\n",
              "  </thead>\n",
              "  <tbody>\n",
              "    <tr>\n",
              "      <th>0</th>\n",
              "      <td>1.24</td>\n",
              "      <td>56</td>\n",
              "    </tr>\n",
              "    <tr>\n",
              "      <th>1</th>\n",
              "      <td>1.34</td>\n",
              "      <td>45</td>\n",
              "    </tr>\n",
              "    <tr>\n",
              "      <th>2</th>\n",
              "      <td>1.45</td>\n",
              "      <td>67</td>\n",
              "    </tr>\n",
              "    <tr>\n",
              "      <th>3</th>\n",
              "      <td>0.67</td>\n",
              "      <td>78</td>\n",
              "    </tr>\n",
              "    <tr>\n",
              "      <th>4</th>\n",
              "      <td>1.66</td>\n",
              "      <td>45</td>\n",
              "    </tr>\n",
              "  </tbody>\n",
              "</table>\n",
              "</div>"
            ],
            "text/plain": [
              "   Height  width\n",
              "0    1.24     56\n",
              "1    1.34     45\n",
              "2    1.45     67\n",
              "3    0.67     78\n",
              "4    1.66     45"
            ]
          },
          "execution_count": 40,
          "metadata": {},
          "output_type": "execute_result"
        }
      ],
      "source": [
        "data=pd.DataFrame({\"Height\":[1.24,1.34,1.45,0.67,1.66],\"width\":[56,45,67,78,45]})\n",
        "data"
      ]
    },
    {
      "cell_type": "code",
      "execution_count": null,
      "id": "17947eb3",
      "metadata": {
        "id": "17947eb3",
        "outputId": "715c853a-a42e-4fa2-fe10-203b8122f603"
      },
      "outputs": [
        {
          "data": {
            "text/plain": [
              "array([-0.08627562,  0.1833357 ,  0.47990816, -1.62306018,  1.04609194])"
            ]
          },
          "execution_count": 41,
          "metadata": {},
          "output_type": "execute_result"
        }
      ],
      "source": [
        "np.array((data[\"Height\"]-data[\"Height\"].mean())/data[\"Height\"].std())"
      ]
    },
    {
      "cell_type": "code",
      "execution_count": null,
      "id": "38a6a835",
      "metadata": {
        "id": "38a6a835",
        "outputId": "1fea3594-1165-45a5-af6d-9e76b08f0797"
      },
      "outputs": [
        {
          "data": {
            "text/html": [
              "<div>\n",
              "<style scoped>\n",
              "    .dataframe tbody tr th:only-of-type {\n",
              "        vertical-align: middle;\n",
              "    }\n",
              "\n",
              "    .dataframe tbody tr th {\n",
              "        vertical-align: top;\n",
              "    }\n",
              "\n",
              "    .dataframe thead th {\n",
              "        text-align: right;\n",
              "    }\n",
              "</style>\n",
              "<table border=\"1\" class=\"dataframe\">\n",
              "  <thead>\n",
              "    <tr style=\"text-align: right;\">\n",
              "      <th></th>\n",
              "      <th>Height</th>\n",
              "      <th>width</th>\n",
              "    </tr>\n",
              "  </thead>\n",
              "  <tbody>\n",
              "    <tr>\n",
              "      <th>0</th>\n",
              "      <td>-0.096459</td>\n",
              "      <td>-0.171499</td>\n",
              "    </tr>\n",
              "    <tr>\n",
              "      <th>1</th>\n",
              "      <td>0.204976</td>\n",
              "      <td>-1.028992</td>\n",
              "    </tr>\n",
              "    <tr>\n",
              "      <th>2</th>\n",
              "      <td>0.536554</td>\n",
              "      <td>0.685994</td>\n",
              "    </tr>\n",
              "    <tr>\n",
              "      <th>3</th>\n",
              "      <td>-1.814636</td>\n",
              "      <td>1.543487</td>\n",
              "    </tr>\n",
              "    <tr>\n",
              "      <th>4</th>\n",
              "      <td>1.169566</td>\n",
              "      <td>-1.028992</td>\n",
              "    </tr>\n",
              "  </tbody>\n",
              "</table>\n",
              "</div>"
            ],
            "text/plain": [
              "     Height     width\n",
              "0 -0.096459 -0.171499\n",
              "1  0.204976 -1.028992\n",
              "2  0.536554  0.685994\n",
              "3 -1.814636  1.543487\n",
              "4  1.169566 -1.028992"
            ]
          },
          "execution_count": 42,
          "metadata": {},
          "output_type": "execute_result"
        }
      ],
      "source": [
        "st_data=data.apply(lambda x:(np.array(x)-np.array(x).mean())/np.array(x).std())\n",
        "st_data\n"
      ]
    },
    {
      "cell_type": "code",
      "execution_count": null,
      "id": "e8a98601",
      "metadata": {
        "id": "e8a98601"
      },
      "outputs": [],
      "source": [
        "#standerdizing from sklearn module\n",
        "from sklearn.preprocessing import StandardScaler"
      ]
    },
    {
      "cell_type": "code",
      "execution_count": null,
      "id": "84863a3a",
      "metadata": {
        "id": "84863a3a"
      },
      "outputs": [],
      "source": [
        "ssc = StandardScaler()"
      ]
    },
    {
      "cell_type": "code",
      "execution_count": null,
      "id": "24ef955c",
      "metadata": {
        "id": "24ef955c",
        "outputId": "5369dcd5-25b2-4fbf-9fa1-69897aa9ce7d"
      },
      "outputs": [
        {
          "data": {
            "text/plain": [
              "array([[-0.09645908, -0.17149859],\n",
              "       [ 0.20497555, -1.02899151],\n",
              "       [ 0.53655363,  0.68599434],\n",
              "       [-1.81463645,  1.54348727],\n",
              "       [ 1.16956635, -1.02899151]])"
            ]
          },
          "execution_count": 45,
          "metadata": {},
          "output_type": "execute_result"
        }
      ],
      "source": [
        "ssc.fit_transform(data)"
      ]
    },
    {
      "cell_type": "code",
      "execution_count": null,
      "id": "a38aa95f",
      "metadata": {
        "id": "a38aa95f",
        "outputId": "408a906d-0da2-4006-bbfc-0afa3f3c281f"
      },
      "outputs": [
        {
          "data": {
            "text/html": [
              "<div>\n",
              "<style scoped>\n",
              "    .dataframe tbody tr th:only-of-type {\n",
              "        vertical-align: middle;\n",
              "    }\n",
              "\n",
              "    .dataframe tbody tr th {\n",
              "        vertical-align: top;\n",
              "    }\n",
              "\n",
              "    .dataframe thead th {\n",
              "        text-align: right;\n",
              "    }\n",
              "</style>\n",
              "<table border=\"1\" class=\"dataframe\">\n",
              "  <thead>\n",
              "    <tr style=\"text-align: right;\">\n",
              "      <th></th>\n",
              "      <th>Height</th>\n",
              "      <th>Width</th>\n",
              "    </tr>\n",
              "  </thead>\n",
              "  <tbody>\n",
              "    <tr>\n",
              "      <th>0</th>\n",
              "      <td>-0.096459</td>\n",
              "      <td>-0.171499</td>\n",
              "    </tr>\n",
              "    <tr>\n",
              "      <th>1</th>\n",
              "      <td>0.204976</td>\n",
              "      <td>-1.028992</td>\n",
              "    </tr>\n",
              "    <tr>\n",
              "      <th>2</th>\n",
              "      <td>0.536554</td>\n",
              "      <td>0.685994</td>\n",
              "    </tr>\n",
              "    <tr>\n",
              "      <th>3</th>\n",
              "      <td>-1.814636</td>\n",
              "      <td>1.543487</td>\n",
              "    </tr>\n",
              "    <tr>\n",
              "      <th>4</th>\n",
              "      <td>1.169566</td>\n",
              "      <td>-1.028992</td>\n",
              "    </tr>\n",
              "  </tbody>\n",
              "</table>\n",
              "</div>"
            ],
            "text/plain": [
              "     Height     Width\n",
              "0 -0.096459 -0.171499\n",
              "1  0.204976 -1.028992\n",
              "2  0.536554  0.685994\n",
              "3 -1.814636  1.543487\n",
              "4  1.169566 -1.028992"
            ]
          },
          "execution_count": 47,
          "metadata": {},
          "output_type": "execute_result"
        }
      ],
      "source": [
        "pd.DataFrame(ssc.fit_transform(data),columns=[\"Height\",\"Width\"])"
      ]
    },
    {
      "cell_type": "code",
      "execution_count": null,
      "id": "466823de",
      "metadata": {
        "id": "466823de"
      },
      "outputs": [],
      "source": []
    }
  ],
  "metadata": {
    "kernelspec": {
      "display_name": "Python 3",
      "language": "python",
      "name": "python3"
    },
    "language_info": {
      "codemirror_mode": {
        "name": "ipython",
        "version": 3
      },
      "file_extension": ".py",
      "mimetype": "text/x-python",
      "name": "python",
      "nbconvert_exporter": "python",
      "pygments_lexer": "ipython3",
      "version": "3.8.8"
    },
    "colab": {
      "provenance": [],
      "include_colab_link": true
    }
  },
  "nbformat": 4,
  "nbformat_minor": 5
}